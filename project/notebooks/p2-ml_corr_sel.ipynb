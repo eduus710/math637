{
 "cells": [
  {
   "cell_type": "markdown",
   "id": "40040c68",
   "metadata": {},
   "source": [
    "### ML genre classification on FMA with feature selection using correlation\n",
    "\n",
    "* use the 'medium' dataset to work with more training examplars\n",
    "* note medium also only contains tracks where all tagged genres roll up to the same root genre\n",
    "* drop highly correlated features"
   ]
  },
  {
   "cell_type": "code",
   "execution_count": 1,
   "id": "e6bd5ffd",
   "metadata": {
    "id": "264ca248"
   },
   "outputs": [],
   "source": [
    "%matplotlib inline\n",
    "\n",
    "import pandas as pd\n",
    "import numpy as np\n",
    "import scipy as sp\n",
    "import IPython.display as ipd\n",
    "\n",
    "import matplotlib.pyplot as plt\n",
    "\n",
    "from sklearn.svm import SVC\n",
    "from sklearn.preprocessing import MinMaxScaler, StandardScaler\n",
    "from sklearn.decomposition import PCA\n",
    "from sklearn.model_selection import (train_test_split, GridSearchCV, RandomizedSearchCV)\n",
    "from sklearn.metrics import (classification_report, confusion_matrix, ConfusionMatrixDisplay, f1_score)\n",
    "from sklearn.linear_model import LogisticRegression\n",
    "from sklearn.neighbors import KNeighborsClassifier\n",
    "\n",
    "from sklearn.experimental import enable_halving_search_cv\n",
    "from sklearn.model_selection import HalvingRandomSearchCV, HalvingGridSearchCV\n",
    "\n",
    "import utils\n",
    "\n",
    "RANDOM_STATE = 53"
   ]
  },
  {
   "cell_type": "code",
   "execution_count": 2,
   "id": "ca1c8ba7",
   "metadata": {
    "colab": {
     "base_uri": "https://localhost:8080/"
    },
    "executionInfo": {
     "elapsed": 38455,
     "status": "ok",
     "timestamp": 1619477163309,
     "user": {
      "displayName": "Erik Duus",
      "photoUrl": "https://lh3.googleusercontent.com/-iXEfO6S51W4/AAAAAAAAAAI/AAAAAAAAANU/5o-Kbbrwl74/s64/photo.jpg",
      "userId": "05537512012204035072"
     },
     "user_tz": 240
    },
    "id": "2fee27d7",
    "outputId": "018b4458-c00a-4376-9815-d9dd20b402d5"
   },
   "outputs": [
    {
     "data": {
      "text/plain": [
       "((106574, 518), (106574, 52))"
      ]
     },
     "execution_count": 2,
     "metadata": {},
     "output_type": "execute_result"
    }
   ],
   "source": [
    "(features, tracks) = utils.load_features()\n",
    "features.shape, tracks.shape"
   ]
  },
  {
   "cell_type": "code",
   "execution_count": 3,
   "id": "d578f6de",
   "metadata": {
    "colab": {
     "base_uri": "https://localhost:8080/"
    },
    "executionInfo": {
     "elapsed": 737,
     "status": "ok",
     "timestamp": 1619477191134,
     "user": {
      "displayName": "Erik Duus",
      "photoUrl": "https://lh3.googleusercontent.com/-iXEfO6S51W4/AAAAAAAAAAI/AAAAAAAAANU/5o-Kbbrwl74/s64/photo.jpg",
      "userId": "05537512012204035072"
     },
     "user_tz": 240
    },
    "id": "fbfa297d",
    "outputId": "4be6aa56-3bc6-4e87-d114-b2e7b50e2291"
   },
   "outputs": [
    {
     "name": "stdout",
     "output_type": "stream",
     "text": [
      "(25000, 518) (25000,)\n"
     ]
    }
   ],
   "source": [
    "small = tracks[('set', 'subset')] == 'small'\n",
    "medium = tracks[('set', 'subset')].isin(['small','medium'])\n",
    "X = features[medium]\n",
    "y = tracks[medium][('track','genre_top')]\n",
    "\n",
    "print(X.shape, y.shape)"
   ]
  },
  {
   "cell_type": "markdown",
   "id": "f53fd413",
   "metadata": {},
   "source": [
    "#### arbitrarily eliminate bottom 3 genres due to lack of exemplars\n"
   ]
  },
  {
   "cell_type": "code",
   "execution_count": 4,
   "id": "6788ddc4",
   "metadata": {},
   "outputs": [],
   "source": [
    "prune = ~y.isin(['Spoken','Blues','Easy Listening'])\n",
    "y = y[prune]\n",
    "X = X[prune]"
   ]
  },
  {
   "cell_type": "markdown",
   "id": "ee0666fc",
   "metadata": {},
   "source": [
    "#### build training/test sets"
   ]
  },
  {
   "cell_type": "code",
   "execution_count": 5,
   "id": "6812f880",
   "metadata": {},
   "outputs": [],
   "source": [
    "X_train, X_test, y_train, y_test = train_test_split(X, y, \n",
    "                                                    test_size=0.2,\n",
    "                                                    random_state=RANDOM_STATE,\n",
    "                                                    shuffle=True,\n",
    "                                                    stratify=y)\n",
    "scaler = MinMaxScaler()\n",
    "X_train_scaled = scaler.fit_transform(X_train)\n",
    "X_test_scaled = scaler.transform(X_test)"
   ]
  },
  {
   "cell_type": "markdown",
   "id": "295ebf23",
   "metadata": {},
   "source": [
    "#### run correlation"
   ]
  },
  {
   "cell_type": "code",
   "execution_count": 16,
   "id": "03649002",
   "metadata": {},
   "outputs": [
    {
     "name": "stdout",
     "output_type": "stream",
     "text": [
      "(19829, 518)\n",
      "(19829, 401) (4958, 401)\n"
     ]
    }
   ],
   "source": [
    "print(X_train_scaled.shape)\n",
    "correlations = np.corrcoef(X_train_scaled, rowvar=False)\n",
    "\n",
    "keep_cols = np.full(X_train_scaled.shape[1], True)\n",
    "\n",
    "for i in range(correlations.shape[0]):\n",
    "    for j in range(i+1, correlations.shape[0]):\n",
    "        val = correlations[i,j]\n",
    "        if abs(val) > 0.90:\n",
    "            keep_cols[i] = False\n",
    "            \n",
    "\n",
    "X_train_corr = X_train_scaled[:,keep_cols]\n",
    "X_test_corr = X_test_scaled[:,keep_cols]\n",
    "print(X_train_corr.shape, X_test_corr.shape)\n"
   ]
  },
  {
   "cell_type": "markdown",
   "id": "2062d745",
   "metadata": {},
   "source": [
    "#### 4 Basic ML classifiers with classifiers with Correlation reduced features"
   ]
  },
  {
   "cell_type": "code",
   "execution_count": 17,
   "id": "a7af0027",
   "metadata": {},
   "outputs": [
    {
     "name": "stdout",
     "output_type": "stream",
     "text": [
      "                     precision    recall  f1-score   support\n",
      "\n",
      "          Classical       0.75      0.84      0.79       124\n",
      "            Country       0.50      0.06      0.10        35\n",
      "         Electronic       0.65      0.82      0.73      1263\n",
      "       Experimental       0.48      0.38      0.42       450\n",
      "               Folk       0.65      0.63      0.64       304\n",
      "            Hip-Hop       0.71      0.63      0.67       440\n",
      "       Instrumental       0.56      0.46      0.50       270\n",
      "      International       0.61      0.44      0.51       204\n",
      "               Jazz       0.62      0.31      0.41        77\n",
      "Old-Time / Historic       0.96      0.94      0.95       102\n",
      "                Pop       0.43      0.06      0.11       237\n",
      "               Rock       0.75      0.87      0.81      1421\n",
      "           Soul-RnB       1.00      0.03      0.06        31\n",
      "\n",
      "           accuracy                           0.68      4958\n",
      "          macro avg       0.67      0.50      0.52      4958\n",
      "       weighted avg       0.66      0.68      0.65      4958\n",
      "\n"
     ]
    },
    {
     "name": "stderr",
     "output_type": "stream",
     "text": [
      "C:\\Users\\orovi\\anaconda3\\lib\\site-packages\\sklearn\\metrics\\_classification.py:1245: UndefinedMetricWarning: Precision and F-score are ill-defined and being set to 0.0 in labels with no predicted samples. Use `zero_division` parameter to control this behavior.\n",
      "  _warn_prf(average, modifier, msg_start, len(result))\n",
      "C:\\Users\\orovi\\anaconda3\\lib\\site-packages\\sklearn\\metrics\\_classification.py:1245: UndefinedMetricWarning: Precision and F-score are ill-defined and being set to 0.0 in labels with no predicted samples. Use `zero_division` parameter to control this behavior.\n",
      "  _warn_prf(average, modifier, msg_start, len(result))\n",
      "C:\\Users\\orovi\\anaconda3\\lib\\site-packages\\sklearn\\metrics\\_classification.py:1245: UndefinedMetricWarning: Precision and F-score are ill-defined and being set to 0.0 in labels with no predicted samples. Use `zero_division` parameter to control this behavior.\n",
      "  _warn_prf(average, modifier, msg_start, len(result))\n"
     ]
    },
    {
     "name": "stdout",
     "output_type": "stream",
     "text": [
      "                     precision    recall  f1-score   support\n",
      "\n",
      "          Classical       0.72      0.78      0.75       124\n",
      "            Country       0.00      0.00      0.00        35\n",
      "         Electronic       0.62      0.85      0.71      1263\n",
      "       Experimental       0.50      0.34      0.40       450\n",
      "               Folk       0.62      0.58      0.60       304\n",
      "            Hip-Hop       0.75      0.55      0.64       440\n",
      "       Instrumental       0.54      0.38      0.44       270\n",
      "      International       0.67      0.24      0.35       204\n",
      "               Jazz       0.00      0.00      0.00        77\n",
      "Old-Time / Historic       0.96      0.95      0.96       102\n",
      "                Pop       0.00      0.00      0.00       237\n",
      "               Rock       0.70      0.89      0.78      1421\n",
      "           Soul-RnB       0.00      0.00      0.00        31\n",
      "\n",
      "           accuracy                           0.66      4958\n",
      "          macro avg       0.47      0.43      0.43      4958\n",
      "       weighted avg       0.60      0.66      0.61      4958\n",
      "\n"
     ]
    },
    {
     "name": "stderr",
     "output_type": "stream",
     "text": [
      "C:\\Users\\orovi\\anaconda3\\lib\\site-packages\\sklearn\\linear_model\\_logistic.py:763: ConvergenceWarning: lbfgs failed to converge (status=1):\n",
      "STOP: TOTAL NO. of ITERATIONS REACHED LIMIT.\n",
      "\n",
      "Increase the number of iterations (max_iter) or scale the data as shown in:\n",
      "    https://scikit-learn.org/stable/modules/preprocessing.html\n",
      "Please also refer to the documentation for alternative solver options:\n",
      "    https://scikit-learn.org/stable/modules/linear_model.html#logistic-regression\n",
      "  n_iter_i = _check_optimize_result(\n",
      "C:\\Users\\orovi\\anaconda3\\lib\\site-packages\\sklearn\\metrics\\_classification.py:1245: UndefinedMetricWarning: Precision and F-score are ill-defined and being set to 0.0 in labels with no predicted samples. Use `zero_division` parameter to control this behavior.\n",
      "  _warn_prf(average, modifier, msg_start, len(result))\n",
      "C:\\Users\\orovi\\anaconda3\\lib\\site-packages\\sklearn\\metrics\\_classification.py:1245: UndefinedMetricWarning: Precision and F-score are ill-defined and being set to 0.0 in labels with no predicted samples. Use `zero_division` parameter to control this behavior.\n",
      "  _warn_prf(average, modifier, msg_start, len(result))\n",
      "C:\\Users\\orovi\\anaconda3\\lib\\site-packages\\sklearn\\metrics\\_classification.py:1245: UndefinedMetricWarning: Precision and F-score are ill-defined and being set to 0.0 in labels with no predicted samples. Use `zero_division` parameter to control this behavior.\n",
      "  _warn_prf(average, modifier, msg_start, len(result))\n"
     ]
    },
    {
     "name": "stdout",
     "output_type": "stream",
     "text": [
      "                     precision    recall  f1-score   support\n",
      "\n",
      "          Classical       0.67      0.72      0.70       124\n",
      "            Country       0.00      0.00      0.00        35\n",
      "         Electronic       0.64      0.80      0.71      1263\n",
      "       Experimental       0.43      0.31      0.36       450\n",
      "               Folk       0.58      0.57      0.57       304\n",
      "            Hip-Hop       0.64      0.60      0.62       440\n",
      "       Instrumental       0.49      0.39      0.43       270\n",
      "      International       0.46      0.28      0.35       204\n",
      "               Jazz       0.82      0.12      0.20        77\n",
      "Old-Time / Historic       0.92      0.94      0.93       102\n",
      "                Pop       0.29      0.04      0.07       237\n",
      "               Rock       0.71      0.87      0.78      1421\n",
      "           Soul-RnB       0.00      0.00      0.00        31\n",
      "\n",
      "           accuracy                           0.64      4958\n",
      "          macro avg       0.51      0.43      0.44      4958\n",
      "       weighted avg       0.61      0.64      0.61      4958\n",
      "\n",
      "                     precision    recall  f1-score   support\n",
      "\n",
      "          Classical       0.56      0.85      0.67       124\n",
      "            Country       0.17      0.51      0.26        35\n",
      "         Electronic       0.68      0.62      0.65      1263\n",
      "       Experimental       0.51      0.25      0.34       450\n",
      "               Folk       0.53      0.57      0.55       304\n",
      "            Hip-Hop       0.52      0.56      0.54       440\n",
      "       Instrumental       0.62      0.26      0.37       270\n",
      "      International       0.50      0.54      0.52       204\n",
      "               Jazz       0.45      0.44      0.44        77\n",
      "Old-Time / Historic       0.93      0.98      0.96       102\n",
      "                Pop       0.29      0.14      0.19       237\n",
      "               Rock       0.65      0.85      0.73      1421\n",
      "           Soul-RnB       0.33      0.03      0.06        31\n",
      "\n",
      "           accuracy                           0.60      4958\n",
      "          macro avg       0.52      0.51      0.48      4958\n",
      "       weighted avg       0.59      0.60      0.58      4958\n",
      "\n"
     ]
    }
   ],
   "source": [
    "classifiers = {'SVC': SVC(kernel='linear', random_state=RANDOM_STATE),\n",
    "               'SVC-RBF': SVC(kernel='rbf', random_state=RANDOM_STATE),\n",
    "               'LR' : LogisticRegression(random_state=RANDOM_STATE),\n",
    "               'KNN' :KNeighborsClassifier()\n",
    "              }\n",
    "\n",
    "for (name, cl) in classifiers.items():\n",
    "    cl.fit(X_train_corr, y_train)\n",
    "    y_pred = cl.predict(X_test_corr)\n",
    "    print(classification_report(y_test, y_pred))"
   ]
  },
  {
   "cell_type": "code",
   "execution_count": 18,
   "id": "564da873",
   "metadata": {},
   "outputs": [
    {
     "name": "stdout",
     "output_type": "stream",
     "text": [
      "                     precision    recall  f1-score   support\n",
      "\n",
      "          Classical       0.64      0.86      0.74       124\n",
      "            Country       0.16      0.63      0.25        35\n",
      "         Electronic       0.77      0.57      0.66      1263\n",
      "       Experimental       0.42      0.43      0.42       450\n",
      "               Folk       0.61      0.66      0.63       304\n",
      "            Hip-Hop       0.58      0.72      0.65       440\n",
      "       Instrumental       0.40      0.58      0.47       270\n",
      "      International       0.43      0.52      0.47       204\n",
      "               Jazz       0.33      0.61      0.43        77\n",
      "Old-Time / Historic       0.94      0.94      0.94       102\n",
      "                Pop       0.20      0.27      0.23       237\n",
      "               Rock       0.90      0.68      0.77      1421\n",
      "           Soul-RnB       0.18      0.55      0.28        31\n",
      "\n",
      "           accuracy                           0.61      4958\n",
      "          macro avg       0.50      0.62      0.53      4958\n",
      "       weighted avg       0.67      0.61      0.63      4958\n",
      "\n",
      "                     precision    recall  f1-score   support\n",
      "\n",
      "          Classical       0.64      0.85      0.73       124\n",
      "            Country       0.10      0.60      0.18        35\n",
      "         Electronic       0.76      0.52      0.62      1263\n",
      "       Experimental       0.41      0.40      0.41       450\n",
      "               Folk       0.59      0.62      0.61       304\n",
      "            Hip-Hop       0.55      0.69      0.61       440\n",
      "       Instrumental       0.39      0.56      0.46       270\n",
      "      International       0.40      0.47      0.43       204\n",
      "               Jazz       0.29      0.60      0.39        77\n",
      "Old-Time / Historic       0.93      0.97      0.95       102\n",
      "                Pop       0.17      0.22      0.19       237\n",
      "               Rock       0.88      0.65      0.75      1421\n",
      "           Soul-RnB       0.09      0.52      0.16        31\n",
      "\n",
      "           accuracy                           0.57      4958\n",
      "          macro avg       0.48      0.59      0.50      4958\n",
      "       weighted avg       0.65      0.57      0.60      4958\n",
      "\n",
      "                     precision    recall  f1-score   support\n",
      "\n",
      "          Classical       0.67      0.85      0.75       124\n",
      "            Country       0.14      0.69      0.23        35\n",
      "         Electronic       0.79      0.49      0.60      1263\n",
      "       Experimental       0.44      0.38      0.41       450\n",
      "               Folk       0.59      0.61      0.60       304\n",
      "            Hip-Hop       0.56      0.70      0.62       440\n",
      "       Instrumental       0.38      0.51      0.44       270\n",
      "      International       0.37      0.54      0.44       204\n",
      "               Jazz       0.22      0.61      0.33        77\n",
      "Old-Time / Historic       0.88      0.98      0.93       102\n",
      "                Pop       0.21      0.30      0.25       237\n",
      "               Rock       0.89      0.67      0.77      1421\n",
      "           Soul-RnB       0.10      0.65      0.17        31\n",
      "\n",
      "           accuracy                           0.58      4958\n",
      "          macro avg       0.48      0.61      0.50      4958\n",
      "       weighted avg       0.67      0.58      0.60      4958\n",
      "\n"
     ]
    }
   ],
   "source": [
    "classifiers = {'SVC': SVC(kernel='linear', class_weight='balanced', random_state=RANDOM_STATE),\n",
    "               'SVC-RBF': SVC(kernel='rbf', class_weight='balanced',random_state=RANDOM_STATE),\n",
    "               'LR' : LogisticRegression(class_weight='balanced', max_iter=5000, random_state=RANDOM_STATE),\n",
    "              }\n",
    "\n",
    "for (name, cl) in classifiers.items():\n",
    "    cl.fit(X_train_corr, y_train)\n",
    "    y_pred = cl.predict(X_test_corr)\n",
    "    print(classification_report(y_test, y_pred))"
   ]
  },
  {
   "cell_type": "code",
   "execution_count": null,
   "id": "97f6e30b",
   "metadata": {},
   "outputs": [],
   "source": []
  }
 ],
 "metadata": {
  "colab": {
   "name": "prediction.ipynb",
   "provenance": []
  },
  "kernelspec": {
   "display_name": "Python 3",
   "language": "python",
   "name": "python3"
  },
  "language_info": {
   "codemirror_mode": {
    "name": "ipython",
    "version": 3
   },
   "file_extension": ".py",
   "mimetype": "text/x-python",
   "name": "python",
   "nbconvert_exporter": "python",
   "pygments_lexer": "ipython3",
   "version": "3.8.8"
  }
 },
 "nbformat": 4,
 "nbformat_minor": 5
}
