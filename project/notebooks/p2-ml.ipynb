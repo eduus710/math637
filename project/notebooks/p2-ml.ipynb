{
 "cells": [
  {
   "cell_type": "markdown",
   "id": "4ff05f48",
   "metadata": {},
   "source": [
    "### ML genre classification on FMA \n",
    "\n",
    "* use the 'medium' dataset to work with more training examplars\n",
    "* note medium also only contains tracks where all tagged genres roll up to the same root genre"
   ]
  },
  {
   "cell_type": "code",
   "execution_count": 20,
   "id": "02c0b75d",
   "metadata": {
    "id": "264ca248"
   },
   "outputs": [],
   "source": [
    "%matplotlib inline\n",
    "\n",
    "import pandas as pd\n",
    "import numpy as np\n",
    "import scipy as sp\n",
    "import IPython.display as ipd\n",
    "\n",
    "import matplotlib.pyplot as plt\n",
    "\n",
    "from sklearn.svm import SVC\n",
    "from sklearn.preprocessing import MinMaxScaler, StandardScaler\n",
    "from sklearn.model_selection import (train_test_split, GridSearchCV, RandomizedSearchCV)\n",
    "from sklearn.metrics import (classification_report, confusion_matrix, ConfusionMatrixDisplay, f1_score)\n",
    "from sklearn.linear_model import LogisticRegression\n",
    "from sklearn.ensemble import (RandomForestClassifier, AdaBoostClassifier)\n",
    "from sklearn.tree import DecisionTreeClassifier\n",
    "from sklearn.neighbors import KNeighborsClassifier\n",
    "\n",
    "from sklearn.experimental import enable_halving_search_cv\n",
    "from sklearn.model_selection import HalvingRandomSearchCV, HalvingGridSearchCV\n",
    "\n",
    "import utils\n",
    "\n",
    "RANDOM_STATE = 53"
   ]
  },
  {
   "cell_type": "code",
   "execution_count": 21,
   "id": "6951626f",
   "metadata": {
    "colab": {
     "base_uri": "https://localhost:8080/"
    },
    "executionInfo": {
     "elapsed": 38455,
     "status": "ok",
     "timestamp": 1619477163309,
     "user": {
      "displayName": "Erik Duus",
      "photoUrl": "https://lh3.googleusercontent.com/-iXEfO6S51W4/AAAAAAAAAAI/AAAAAAAAANU/5o-Kbbrwl74/s64/photo.jpg",
      "userId": "05537512012204035072"
     },
     "user_tz": 240
    },
    "id": "2fee27d7",
    "outputId": "018b4458-c00a-4376-9815-d9dd20b402d5"
   },
   "outputs": [
    {
     "data": {
      "text/plain": [
       "((106574, 518), (106574, 52))"
      ]
     },
     "execution_count": 21,
     "metadata": {},
     "output_type": "execute_result"
    }
   ],
   "source": [
    "(features, tracks) = utils.load_features()\n",
    "features.shape, tracks.shape"
   ]
  },
  {
   "cell_type": "code",
   "execution_count": 22,
   "id": "b7601ac1",
   "metadata": {
    "colab": {
     "base_uri": "https://localhost:8080/"
    },
    "executionInfo": {
     "elapsed": 737,
     "status": "ok",
     "timestamp": 1619477191134,
     "user": {
      "displayName": "Erik Duus",
      "photoUrl": "https://lh3.googleusercontent.com/-iXEfO6S51W4/AAAAAAAAAAI/AAAAAAAAANU/5o-Kbbrwl74/s64/photo.jpg",
      "userId": "05537512012204035072"
     },
     "user_tz": 240
    },
    "id": "fbfa297d",
    "outputId": "4be6aa56-3bc6-4e87-d114-b2e7b50e2291"
   },
   "outputs": [
    {
     "name": "stdout",
     "output_type": "stream",
     "text": [
      "(25000, 518) (25000,)\n"
     ]
    }
   ],
   "source": [
    "small = tracks[('set', 'subset')] == 'small'\n",
    "medium = tracks[('set', 'subset')].isin(['small','medium'])\n",
    "X = features[medium]\n",
    "y = tracks[medium][('track','genre_top')]\n",
    "\n",
    "print(X.shape, y.shape)\n"
   ]
  },
  {
   "cell_type": "markdown",
   "id": "b728f40d",
   "metadata": {},
   "source": [
    "#### examine genre_top breakdown\n",
    "\n",
    "* dataset is very unbalanced"
   ]
  },
  {
   "cell_type": "code",
   "execution_count": 23,
   "id": "867682e2",
   "metadata": {},
   "outputs": [
    {
     "data": {
      "text/plain": [
       "Rock                   7103\n",
       "Electronic             6314\n",
       "Experimental           2251\n",
       "Hip-Hop                2201\n",
       "Folk                   1519\n",
       "Instrumental           1350\n",
       "Pop                    1186\n",
       "International          1018\n",
       "Classical               619\n",
       "Old-Time / Historic     510\n",
       "Jazz                    384\n",
       "Country                 178\n",
       "Soul-RnB                154\n",
       "Spoken                  118\n",
       "Blues                    74\n",
       "Easy Listening           21\n",
       "Name: (track, genre_top), dtype: int64"
      ]
     },
     "execution_count": 23,
     "metadata": {},
     "output_type": "execute_result"
    }
   ],
   "source": [
    "y.value_counts()"
   ]
  },
  {
   "cell_type": "markdown",
   "id": "fc85d352",
   "metadata": {},
   "source": [
    "#### arbitrarily eliminate bottom 3 genres due to lack of exemplars\n"
   ]
  },
  {
   "cell_type": "code",
   "execution_count": 24,
   "id": "1781dff9",
   "metadata": {},
   "outputs": [],
   "source": [
    "prune = ~y.isin(['Spoken','Blues','Easy Listening'])\n",
    "y = y[prune]\n",
    "X = X[prune]"
   ]
  },
  {
   "cell_type": "markdown",
   "id": "abcb4282",
   "metadata": {},
   "source": [
    "#### build training/test sets"
   ]
  },
  {
   "cell_type": "code",
   "execution_count": 25,
   "id": "25aa4afe",
   "metadata": {},
   "outputs": [],
   "source": [
    "X_train, X_test, y_train, y_test = train_test_split(X, y, \n",
    "                                                    test_size=0.2,\n",
    "                                                    random_state=RANDOM_STATE,\n",
    "                                                    shuffle=True,\n",
    "                                                    stratify=y)\n",
    "scaler = MinMaxScaler()\n",
    "X_train_scaled = scaler.fit_transform(X_train)\n",
    "X_test_scaled = scaler.transform(X_test)"
   ]
  },
  {
   "cell_type": "markdown",
   "id": "161e05f2",
   "metadata": {},
   "source": [
    "#### Naively try basic ML classifiers\n",
    "\n",
    "* all features\n",
    "* default settings\n",
    "\n",
    "NOTE: pretty slow!!!"
   ]
  },
  {
   "cell_type": "code",
   "execution_count": 26,
   "id": "0fb13eca",
   "metadata": {
    "colab": {
     "base_uri": "https://localhost:8080/"
    },
    "executionInfo": {
     "elapsed": 69077,
     "status": "ok",
     "timestamp": 1619477262587,
     "user": {
      "displayName": "Erik Duus",
      "photoUrl": "https://lh3.googleusercontent.com/-iXEfO6S51W4/AAAAAAAAAAI/AAAAAAAAANU/5o-Kbbrwl74/s64/photo.jpg",
      "userId": "05537512012204035072"
     },
     "user_tz": 240
    },
    "id": "c82e7c79",
    "outputId": "6b36fbf4-f429-4799-e1dd-1909e6624d67"
   },
   "outputs": [
    {
     "name": "stdout",
     "output_type": "stream",
     "text": [
      "                     precision    recall  f1-score   support\n",
      "\n",
      "          Classical       0.75      0.83      0.79       124\n",
      "            Country       0.60      0.09      0.15        35\n",
      "         Electronic       0.65      0.82      0.72      1263\n",
      "       Experimental       0.49      0.40      0.44       450\n",
      "               Folk       0.64      0.63      0.63       304\n",
      "            Hip-Hop       0.72      0.64      0.68       440\n",
      "       Instrumental       0.57      0.44      0.50       270\n",
      "      International       0.61      0.44      0.51       204\n",
      "               Jazz       0.60      0.31      0.41        77\n",
      "Old-Time / Historic       0.98      0.93      0.95       102\n",
      "                Pop       0.44      0.07      0.12       237\n",
      "               Rock       0.76      0.87      0.81      1421\n",
      "           Soul-RnB       1.00      0.03      0.06        31\n",
      "\n",
      "           accuracy                           0.68      4958\n",
      "          macro avg       0.68      0.50      0.52      4958\n",
      "       weighted avg       0.67      0.68      0.66      4958\n",
      "\n"
     ]
    },
    {
     "name": "stderr",
     "output_type": "stream",
     "text": [
      "C:\\Users\\orovi\\anaconda3\\lib\\site-packages\\sklearn\\metrics\\_classification.py:1245: UndefinedMetricWarning: Precision and F-score are ill-defined and being set to 0.0 in labels with no predicted samples. Use `zero_division` parameter to control this behavior.\n",
      "  _warn_prf(average, modifier, msg_start, len(result))\n",
      "C:\\Users\\orovi\\anaconda3\\lib\\site-packages\\sklearn\\metrics\\_classification.py:1245: UndefinedMetricWarning: Precision and F-score are ill-defined and being set to 0.0 in labels with no predicted samples. Use `zero_division` parameter to control this behavior.\n",
      "  _warn_prf(average, modifier, msg_start, len(result))\n",
      "C:\\Users\\orovi\\anaconda3\\lib\\site-packages\\sklearn\\metrics\\_classification.py:1245: UndefinedMetricWarning: Precision and F-score are ill-defined and being set to 0.0 in labels with no predicted samples. Use `zero_division` parameter to control this behavior.\n",
      "  _warn_prf(average, modifier, msg_start, len(result))\n"
     ]
    },
    {
     "name": "stdout",
     "output_type": "stream",
     "text": [
      "                     precision    recall  f1-score   support\n",
      "\n",
      "          Classical       0.74      0.80      0.77       124\n",
      "            Country       0.00      0.00      0.00        35\n",
      "         Electronic       0.63      0.85      0.72      1263\n",
      "       Experimental       0.51      0.36      0.42       450\n",
      "               Folk       0.61      0.59      0.60       304\n",
      "            Hip-Hop       0.77      0.56      0.65       440\n",
      "       Instrumental       0.57      0.42      0.49       270\n",
      "      International       0.63      0.25      0.35       204\n",
      "               Jazz       0.00      0.00      0.00        77\n",
      "Old-Time / Historic       0.97      0.96      0.97       102\n",
      "                Pop       0.00      0.00      0.00       237\n",
      "               Rock       0.70      0.89      0.78      1421\n",
      "           Soul-RnB       0.00      0.00      0.00        31\n",
      "\n",
      "           accuracy                           0.66      4958\n",
      "          macro avg       0.47      0.44      0.44      4958\n",
      "       weighted avg       0.61      0.66      0.62      4958\n",
      "\n"
     ]
    },
    {
     "name": "stderr",
     "output_type": "stream",
     "text": [
      "C:\\Users\\orovi\\anaconda3\\lib\\site-packages\\sklearn\\linear_model\\_logistic.py:763: ConvergenceWarning: lbfgs failed to converge (status=1):\n",
      "STOP: TOTAL NO. of ITERATIONS REACHED LIMIT.\n",
      "\n",
      "Increase the number of iterations (max_iter) or scale the data as shown in:\n",
      "    https://scikit-learn.org/stable/modules/preprocessing.html\n",
      "Please also refer to the documentation for alternative solver options:\n",
      "    https://scikit-learn.org/stable/modules/linear_model.html#logistic-regression\n",
      "  n_iter_i = _check_optimize_result(\n",
      "C:\\Users\\orovi\\anaconda3\\lib\\site-packages\\sklearn\\metrics\\_classification.py:1245: UndefinedMetricWarning: Precision and F-score are ill-defined and being set to 0.0 in labels with no predicted samples. Use `zero_division` parameter to control this behavior.\n",
      "  _warn_prf(average, modifier, msg_start, len(result))\n",
      "C:\\Users\\orovi\\anaconda3\\lib\\site-packages\\sklearn\\metrics\\_classification.py:1245: UndefinedMetricWarning: Precision and F-score are ill-defined and being set to 0.0 in labels with no predicted samples. Use `zero_division` parameter to control this behavior.\n",
      "  _warn_prf(average, modifier, msg_start, len(result))\n",
      "C:\\Users\\orovi\\anaconda3\\lib\\site-packages\\sklearn\\metrics\\_classification.py:1245: UndefinedMetricWarning: Precision and F-score are ill-defined and being set to 0.0 in labels with no predicted samples. Use `zero_division` parameter to control this behavior.\n",
      "  _warn_prf(average, modifier, msg_start, len(result))\n"
     ]
    },
    {
     "name": "stdout",
     "output_type": "stream",
     "text": [
      "                     precision    recall  f1-score   support\n",
      "\n",
      "          Classical       0.71      0.73      0.72       124\n",
      "            Country       0.00      0.00      0.00        35\n",
      "         Electronic       0.65      0.80      0.71      1263\n",
      "       Experimental       0.47      0.33      0.39       450\n",
      "               Folk       0.58      0.57      0.58       304\n",
      "            Hip-Hop       0.65      0.62      0.63       440\n",
      "       Instrumental       0.48      0.33      0.39       270\n",
      "      International       0.47      0.23      0.31       204\n",
      "               Jazz       0.70      0.09      0.16        77\n",
      "Old-Time / Historic       0.87      0.95      0.91       102\n",
      "                Pop       0.27      0.03      0.06       237\n",
      "               Rock       0.69      0.88      0.77      1421\n",
      "           Soul-RnB       0.00      0.00      0.00        31\n",
      "\n",
      "           accuracy                           0.64      4958\n",
      "          macro avg       0.50      0.43      0.43      4958\n",
      "       weighted avg       0.60      0.64      0.61      4958\n",
      "\n",
      "                     precision    recall  f1-score   support\n",
      "\n",
      "          Classical       0.56      0.85      0.68       124\n",
      "            Country       0.15      0.43      0.22        35\n",
      "         Electronic       0.68      0.60      0.64      1263\n",
      "       Experimental       0.45      0.25      0.32       450\n",
      "               Folk       0.48      0.53      0.50       304\n",
      "            Hip-Hop       0.45      0.54      0.49       440\n",
      "       Instrumental       0.59      0.24      0.34       270\n",
      "      International       0.46      0.50      0.48       204\n",
      "               Jazz       0.42      0.36      0.39        77\n",
      "Old-Time / Historic       0.92      0.98      0.95       102\n",
      "                Pop       0.22      0.11      0.15       237\n",
      "               Rock       0.66      0.84      0.74      1421\n",
      "           Soul-RnB       0.67      0.06      0.12        31\n",
      "\n",
      "           accuracy                           0.59      4958\n",
      "          macro avg       0.51      0.48      0.46      4958\n",
      "       weighted avg       0.58      0.59      0.57      4958\n",
      "\n"
     ]
    }
   ],
   "source": [
    "classifiers = {'SVC': SVC(kernel='linear', random_state=RANDOM_STATE),\n",
    "               'SVC-RBF': SVC(kernel='rbf', random_state=RANDOM_STATE),\n",
    "               'LR' : LogisticRegression(random_state=RANDOM_STATE),\n",
    "               'KNN' :KNeighborsClassifier()\n",
    "              }\n",
    "\n",
    "for (name, cl) in classifiers.items():\n",
    "    cl.fit(X_train_scaled, y_train)\n",
    "    y_pred = cl.predict(X_test_scaled)\n",
    "    print(classification_report(y_test, y_pred))"
   ]
  },
  {
   "cell_type": "markdown",
   "id": "769a7e13",
   "metadata": {
    "tags": []
   },
   "source": [
    "#### Repeat with class_weight=balanced to mitigate imbalance"
   ]
  },
  {
   "cell_type": "code",
   "execution_count": 8,
   "id": "ba99b8da",
   "metadata": {},
   "outputs": [
    {
     "name": "stdout",
     "output_type": "stream",
     "text": [
      "                     precision    recall  f1-score   support\n",
      "\n",
      "          Classical       0.67      0.83      0.74       124\n",
      "            Country       0.16      0.60      0.26        35\n",
      "         Electronic       0.77      0.57      0.66      1263\n",
      "       Experimental       0.43      0.45      0.44       450\n",
      "               Folk       0.60      0.64      0.62       304\n",
      "            Hip-Hop       0.58      0.72      0.64       440\n",
      "       Instrumental       0.39      0.59      0.47       270\n",
      "      International       0.42      0.56      0.48       204\n",
      "               Jazz       0.36      0.61      0.46        77\n",
      "Old-Time / Historic       0.97      0.92      0.94       102\n",
      "                Pop       0.21      0.29      0.24       237\n",
      "               Rock       0.90      0.68      0.78      1421\n",
      "           Soul-RnB       0.17      0.48      0.26        31\n",
      "\n",
      "           accuracy                           0.61      4958\n",
      "          macro avg       0.51      0.61      0.54      4958\n",
      "       weighted avg       0.68      0.61      0.63      4958\n",
      "\n",
      "                     precision    recall  f1-score   support\n",
      "\n",
      "          Classical       0.64      0.85      0.73       124\n",
      "            Country       0.12      0.69      0.21        35\n",
      "         Electronic       0.76      0.52      0.62      1263\n",
      "       Experimental       0.41      0.40      0.41       450\n",
      "               Folk       0.58      0.64      0.61       304\n",
      "            Hip-Hop       0.56      0.70      0.62       440\n",
      "       Instrumental       0.38      0.53      0.45       270\n",
      "      International       0.40      0.45      0.42       204\n",
      "               Jazz       0.29      0.60      0.39        77\n",
      "Old-Time / Historic       0.92      0.97      0.94       102\n",
      "                Pop       0.18      0.25      0.21       237\n",
      "               Rock       0.88      0.66      0.75      1421\n",
      "           Soul-RnB       0.11      0.55      0.18        31\n",
      "\n",
      "           accuracy                           0.58      4958\n",
      "          macro avg       0.48      0.60      0.50      4958\n",
      "       weighted avg       0.66      0.58      0.60      4958\n",
      "\n",
      "                     precision    recall  f1-score   support\n",
      "\n",
      "          Classical       0.61      0.82      0.70       124\n",
      "            Country       0.12      0.69      0.20        35\n",
      "         Electronic       0.77      0.47      0.58      1263\n",
      "       Experimental       0.45      0.33      0.38       450\n",
      "               Folk       0.60      0.58      0.59       304\n",
      "            Hip-Hop       0.53      0.69      0.60       440\n",
      "       Instrumental       0.37      0.54      0.44       270\n",
      "      International       0.37      0.48      0.42       204\n",
      "               Jazz       0.22      0.55      0.31        77\n",
      "Old-Time / Historic       0.86      0.98      0.92       102\n",
      "                Pop       0.19      0.28      0.22       237\n",
      "               Rock       0.88      0.65      0.75      1421\n",
      "           Soul-RnB       0.07      0.61      0.13        31\n",
      "\n",
      "           accuracy                           0.55      4958\n",
      "          macro avg       0.46      0.59      0.48      4958\n",
      "       weighted avg       0.65      0.55      0.58      4958\n",
      "\n"
     ]
    },
    {
     "name": "stderr",
     "output_type": "stream",
     "text": [
      "C:\\Users\\orovi\\anaconda3\\lib\\site-packages\\sklearn\\linear_model\\_logistic.py:763: ConvergenceWarning: lbfgs failed to converge (status=1):\n",
      "STOP: TOTAL NO. of ITERATIONS REACHED LIMIT.\n",
      "\n",
      "Increase the number of iterations (max_iter) or scale the data as shown in:\n",
      "    https://scikit-learn.org/stable/modules/preprocessing.html\n",
      "Please also refer to the documentation for alternative solver options:\n",
      "    https://scikit-learn.org/stable/modules/linear_model.html#logistic-regression\n",
      "  n_iter_i = _check_optimize_result(\n"
     ]
    }
   ],
   "source": [
    "classifiers = {'SVC': SVC(kernel='linear', class_weight='balanced', random_state=RANDOM_STATE),\n",
    "               'SVC-RBF': SVC(kernel='rbf', class_weight='balanced', random_state=RANDOM_STATE),\n",
    "               'LR' : LogisticRegression(class_weight='balanced', random_state=RANDOM_STATE)\n",
    "              }\n",
    "\n",
    "for (name, cl) in classifiers.items():\n",
    "    cl.fit(X_train_scaled, y_train)\n",
    "    y_pred = cl.predict(X_test_scaled)\n",
    "    print(classification_report(y_test, y_pred))"
   ]
  },
  {
   "cell_type": "markdown",
   "id": "cf384b13",
   "metadata": {
    "id": "704a66b7"
   },
   "source": [
    "#### Can hyperparameter tuning improve performance?\n",
    "\n",
    "#### SVC-linear (slow!!!)"
   ]
  },
  {
   "cell_type": "code",
   "execution_count": 9,
   "id": "6090fe09",
   "metadata": {},
   "outputs": [
    {
     "name": "stdout",
     "output_type": "stream",
     "text": [
      "SVC(C=2.693519333248338, class_weight='balanced', kernel='linear')\n",
      "                     precision    recall  f1-score   support\n",
      "\n",
      "          Classical       0.64      0.83      0.72       124\n",
      "            Country       0.18      0.54      0.27        35\n",
      "         Electronic       0.76      0.58      0.66      1263\n",
      "       Experimental       0.41      0.43      0.42       450\n",
      "               Folk       0.58      0.66      0.62       304\n",
      "            Hip-Hop       0.56      0.71      0.63       440\n",
      "       Instrumental       0.40      0.56      0.47       270\n",
      "      International       0.40      0.54      0.46       204\n",
      "               Jazz       0.38      0.60      0.46        77\n",
      "Old-Time / Historic       0.98      0.91      0.94       102\n",
      "                Pop       0.20      0.27      0.23       237\n",
      "               Rock       0.90      0.69      0.78      1421\n",
      "           Soul-RnB       0.19      0.35      0.24        31\n",
      "\n",
      "           accuracy                           0.61      4958\n",
      "          macro avg       0.50      0.59      0.53      4958\n",
      "       weighted avg       0.67      0.61      0.63      4958\n",
      "\n"
     ]
    }
   ],
   "source": [
    "param_dist = {'C': sp.stats.loguniform(1e-2, 1e2)}\n",
    "\n",
    "rsh = HalvingRandomSearchCV(SVC(kernel='linear',class_weight='balanced'), \n",
    "                            param_dist, \n",
    "                            scoring='f1_macro', \n",
    "                            random_state=RANDOM_STATE,\n",
    "                            n_jobs=4 )\n",
    "\n",
    "rsh.fit(X_train_scaled, y_train)\n",
    "cl = rsh.best_estimator_\n",
    "print(cl)\n",
    "\n",
    "y_pred = cl.predict(X_test_scaled)\n",
    "print(classification_report(y_test, y_pred))\n"
   ]
  },
  {
   "cell_type": "markdown",
   "id": "73dece8d",
   "metadata": {},
   "source": [
    "#### SVC-RBF with hyperparameter tuning (slow!!!)"
   ]
  },
  {
   "cell_type": "code",
   "execution_count": 10,
   "id": "01f2772a",
   "metadata": {},
   "outputs": [
    {
     "name": "stdout",
     "output_type": "stream",
     "text": [
      "SVC(C=2.412957842508776, class_weight='balanced', gamma=0.21965247640481667)\n",
      "                     precision    recall  f1-score   support\n",
      "\n",
      "          Classical       0.80      0.86      0.83       124\n",
      "            Country       0.56      0.54      0.55        35\n",
      "         Electronic       0.76      0.71      0.73      1263\n",
      "       Experimental       0.48      0.58      0.53       450\n",
      "               Folk       0.63      0.72      0.67       304\n",
      "            Hip-Hop       0.62      0.74      0.67       440\n",
      "       Instrumental       0.50      0.60      0.54       270\n",
      "      International       0.59      0.62      0.61       204\n",
      "               Jazz       0.65      0.51      0.57        77\n",
      "Old-Time / Historic       1.00      0.98      0.99       102\n",
      "                Pop       0.28      0.30      0.29       237\n",
      "               Rock       0.88      0.76      0.82      1421\n",
      "           Soul-RnB       0.64      0.29      0.40        31\n",
      "\n",
      "           accuracy                           0.69      4958\n",
      "          macro avg       0.65      0.63      0.63      4958\n",
      "       weighted avg       0.71      0.69      0.69      4958\n",
      "\n"
     ]
    }
   ],
   "source": [
    "param_dist = {'C': sp.stats.loguniform(1e-1, 1e1), \n",
    "              'gamma': sp.stats.loguniform(1e-4, 1e0)\n",
    "}\n",
    "\n",
    "rsh = HalvingRandomSearchCV(SVC(kernel='rbf',class_weight='balanced'), \n",
    "                            param_dist, \n",
    "                            scoring='f1_macro', \n",
    "                            random_state=RANDOM_STATE,\n",
    "                            n_jobs=4 )\n",
    "rsh.fit(X_train_scaled, y_train)\n",
    "cl = rsh.best_estimator_\n",
    "print(cl)\n",
    "\n",
    "y_pred = cl.predict(X_test_scaled)\n",
    "print(classification_report(y_test, y_pred))\n"
   ]
  },
  {
   "cell_type": "markdown",
   "id": "7beba52a",
   "metadata": {},
   "source": [
    "#### Logistic regression - with hyperparameter tuning (slow!!!)"
   ]
  },
  {
   "cell_type": "code",
   "execution_count": 11,
   "id": "78a1b09e",
   "metadata": {},
   "outputs": [
    {
     "name": "stdout",
     "output_type": "stream",
     "text": [
      "LogisticRegression(C=2.641600609506842, class_weight='balanced', max_iter=5000)\n",
      "                     precision    recall  f1-score   support\n",
      "\n",
      "          Classical       0.67      0.84      0.75       124\n",
      "            Country       0.14      0.66      0.23        35\n",
      "         Electronic       0.80      0.51      0.62      1263\n",
      "       Experimental       0.45      0.40      0.42       450\n",
      "               Folk       0.57      0.62      0.59       304\n",
      "            Hip-Hop       0.57      0.72      0.64       440\n",
      "       Instrumental       0.38      0.50      0.43       270\n",
      "      International       0.39      0.57      0.46       204\n",
      "               Jazz       0.24      0.60      0.35        77\n",
      "Old-Time / Historic       0.92      0.96      0.94       102\n",
      "                Pop       0.22      0.31      0.26       237\n",
      "               Rock       0.89      0.69      0.78      1421\n",
      "           Soul-RnB       0.13      0.68      0.21        31\n",
      "\n",
      "           accuracy                           0.59      4958\n",
      "          macro avg       0.49      0.62      0.51      4958\n",
      "       weighted avg       0.67      0.59      0.61      4958\n",
      "\n"
     ]
    }
   ],
   "source": [
    "param_dist = {'max_iter': [5000],\n",
    "              'C': sp.stats.loguniform(1e-1, 1e1) \n",
    "}\n",
    "\n",
    "X_train_scaled = scaler.fit_transform(X_train)\n",
    "X_test_scaled = scaler.transform(X_test)\n",
    "\n",
    "rsh = HalvingRandomSearchCV(LogisticRegression(class_weight='balanced'),\n",
    "                            param_dist, \n",
    "                            scoring='f1_macro', \n",
    "                            random_state=RANDOM_STATE,\n",
    "                            n_jobs=4)\n",
    "\n",
    "rsh.fit(X_train_scaled, y_train)\n",
    "cl = rsh.best_estimator_\n",
    "print(cl)\n",
    "\n",
    "y_pred = cl.predict(X_test_scaled)\n",
    "print(classification_report(y_test, y_pred))\n"
   ]
  },
  {
   "cell_type": "markdown",
   "id": "dbf7a8cd",
   "metadata": {},
   "source": [
    "#### KNN - tuned"
   ]
  },
  {
   "cell_type": "code",
   "execution_count": 12,
   "id": "1c30c7f2",
   "metadata": {},
   "outputs": [
    {
     "name": "stdout",
     "output_type": "stream",
     "text": [
      "KNeighborsClassifier(n_neighbors=7)\n",
      "                     precision    recall  f1-score   support\n",
      "\n",
      "          Classical       0.58      0.81      0.68       124\n",
      "            Country       0.17      0.34      0.23        35\n",
      "         Electronic       0.69      0.60      0.64      1263\n",
      "       Experimental       0.48      0.23      0.31       450\n",
      "               Folk       0.46      0.52      0.49       304\n",
      "            Hip-Hop       0.49      0.57      0.53       440\n",
      "       Instrumental       0.62      0.23      0.34       270\n",
      "      International       0.43      0.47      0.45       204\n",
      "               Jazz       0.43      0.38      0.40        77\n",
      "Old-Time / Historic       0.89      0.98      0.93       102\n",
      "                Pop       0.18      0.07      0.10       237\n",
      "               Rock       0.63      0.86      0.73      1421\n",
      "           Soul-RnB       0.57      0.13      0.21        31\n",
      "\n",
      "           accuracy                           0.59      4958\n",
      "          macro avg       0.51      0.48      0.47      4958\n",
      "       weighted avg       0.58      0.59      0.57      4958\n",
      "\n"
     ]
    }
   ],
   "source": [
    "param_dist = {'n_neighbors': sp.stats.randint(2,50)}\n",
    "\n",
    "rsh = HalvingRandomSearchCV(KNeighborsClassifier(),\n",
    "                            param_dist, \n",
    "                            scoring='f1_macro', \n",
    "                            random_state=RANDOM_STATE,\n",
    "                            n_jobs=4)\n",
    "\n",
    "rsh.fit(X_train_scaled, y_train)\n",
    "cl = rsh.best_estimator_\n",
    "print(cl)\n",
    "\n",
    "y_pred = cl.predict(X_test_scaled)\n",
    "print(classification_report(y_test, y_pred))\n"
   ]
  },
  {
   "cell_type": "markdown",
   "id": "77c3aead",
   "metadata": {},
   "source": [
    "#### Try all feature sets independently with SVC"
   ]
  },
  {
   "cell_type": "code",
   "execution_count": 13,
   "id": "28ed94cd",
   "metadata": {},
   "outputs": [
    {
     "name": "stdout",
     "output_type": "stream",
     "text": [
      "chroma_cens\n",
      "                     precision    recall  f1-score   support\n",
      "\n",
      "          Classical       0.16      0.56      0.25       124\n",
      "            Country       0.03      0.46      0.05        35\n",
      "         Electronic       0.49      0.15      0.23      1263\n",
      "       Experimental       0.25      0.21      0.23       450\n",
      "               Folk       0.32      0.31      0.31       304\n",
      "            Hip-Hop       0.22      0.35      0.27       440\n",
      "       Instrumental       0.23      0.33      0.27       270\n",
      "      International       0.15      0.07      0.09       204\n",
      "               Jazz       0.10      0.42      0.16        77\n",
      "Old-Time / Historic       0.11      0.45      0.17       102\n",
      "                Pop       0.09      0.05      0.07       237\n",
      "               Rock       0.59      0.22      0.32      1421\n",
      "           Soul-RnB       0.03      0.29      0.05        31\n",
      "\n",
      "           accuracy                           0.23      4958\n",
      "          macro avg       0.21      0.30      0.19      4958\n",
      "       weighted avg       0.39      0.23      0.25      4958\n",
      "\n",
      "chroma_cqt\n",
      "                     precision    recall  f1-score   support\n",
      "\n",
      "          Classical       0.16      0.46      0.24       124\n",
      "            Country       0.02      0.37      0.04        35\n",
      "         Electronic       0.53      0.13      0.21      1263\n",
      "       Experimental       0.27      0.27      0.27       450\n",
      "               Folk       0.23      0.33      0.27       304\n",
      "            Hip-Hop       0.25      0.32      0.28       440\n",
      "       Instrumental       0.19      0.20      0.20       270\n",
      "      International       0.10      0.04      0.06       204\n",
      "               Jazz       0.07      0.21      0.10        77\n",
      "Old-Time / Historic       0.16      0.61      0.26       102\n",
      "                Pop       0.09      0.03      0.05       237\n",
      "               Rock       0.63      0.33      0.43      1421\n",
      "           Soul-RnB       0.02      0.35      0.04        31\n",
      "\n",
      "           accuracy                           0.25      4958\n",
      "          macro avg       0.21      0.28      0.19      4958\n",
      "       weighted avg       0.41      0.25      0.27      4958\n",
      "\n",
      "chroma_stft\n",
      "                     precision    recall  f1-score   support\n",
      "\n",
      "          Classical       0.20      0.56      0.29       124\n",
      "            Country       0.02      0.37      0.04        35\n",
      "         Electronic       0.62      0.21      0.31      1263\n",
      "       Experimental       0.26      0.02      0.04       450\n",
      "               Folk       0.21      0.21      0.21       304\n",
      "            Hip-Hop       0.26      0.42      0.32       440\n",
      "       Instrumental       0.20      0.12      0.15       270\n",
      "      International       0.14      0.03      0.05       204\n",
      "               Jazz       0.08      0.36      0.12        77\n",
      "Old-Time / Historic       0.32      0.59      0.41       102\n",
      "                Pop       0.09      0.08      0.08       237\n",
      "               Rock       0.65      0.47      0.54      1421\n",
      "           Soul-RnB       0.02      0.42      0.04        31\n",
      "\n",
      "           accuracy                           0.29      4958\n",
      "          macro avg       0.24      0.30      0.20      4958\n",
      "       weighted avg       0.44      0.29      0.31      4958\n",
      "\n",
      "mfcc\n",
      "                     precision    recall  f1-score   support\n",
      "\n",
      "          Classical       0.58      0.86      0.69       124\n",
      "            Country       0.10      0.63      0.17        35\n",
      "         Electronic       0.75      0.51      0.60      1263\n",
      "       Experimental       0.38      0.26      0.31       450\n",
      "               Folk       0.54      0.62      0.58       304\n",
      "            Hip-Hop       0.50      0.66      0.57       440\n",
      "       Instrumental       0.35      0.52      0.42       270\n",
      "      International       0.40      0.39      0.39       204\n",
      "               Jazz       0.21      0.51      0.29        77\n",
      "Old-Time / Historic       0.88      0.95      0.92       102\n",
      "                Pop       0.19      0.21      0.20       237\n",
      "               Rock       0.87      0.65      0.74      1421\n",
      "           Soul-RnB       0.07      0.58      0.13        31\n",
      "\n",
      "           accuracy                           0.55      4958\n",
      "          macro avg       0.45      0.57      0.46      4958\n",
      "       weighted avg       0.63      0.55      0.57      4958\n",
      "\n",
      "rmse\n",
      "                     precision    recall  f1-score   support\n",
      "\n",
      "          Classical       0.19      0.60      0.29       124\n",
      "            Country       0.02      0.29      0.03        35\n",
      "         Electronic       0.59      0.08      0.14      1263\n",
      "       Experimental       0.35      0.05      0.09       450\n",
      "               Folk       0.12      0.12      0.12       304\n",
      "            Hip-Hop       0.26      0.40      0.31       440\n",
      "       Instrumental       0.09      0.09      0.09       270\n",
      "      International       0.00      0.00      0.00       204\n",
      "               Jazz       0.00      0.01      0.01        77\n",
      "Old-Time / Historic       0.07      0.59      0.12       102\n",
      "                Pop       0.10      0.08      0.09       237\n",
      "               Rock       0.59      0.37      0.45      1421\n",
      "           Soul-RnB       0.03      0.39      0.06        31\n",
      "\n",
      "           accuracy                           0.21      4958\n",
      "          macro avg       0.19      0.24      0.14      4958\n",
      "       weighted avg       0.40      0.21      0.23      4958\n",
      "\n"
     ]
    },
    {
     "name": "stderr",
     "output_type": "stream",
     "text": [
      "C:\\Users\\orovi\\anaconda3\\lib\\site-packages\\sklearn\\metrics\\_classification.py:1245: UndefinedMetricWarning: Precision and F-score are ill-defined and being set to 0.0 in labels with no predicted samples. Use `zero_division` parameter to control this behavior.\n",
      "  _warn_prf(average, modifier, msg_start, len(result))\n",
      "C:\\Users\\orovi\\anaconda3\\lib\\site-packages\\sklearn\\metrics\\_classification.py:1245: UndefinedMetricWarning: Precision and F-score are ill-defined and being set to 0.0 in labels with no predicted samples. Use `zero_division` parameter to control this behavior.\n",
      "  _warn_prf(average, modifier, msg_start, len(result))\n",
      "C:\\Users\\orovi\\anaconda3\\lib\\site-packages\\sklearn\\metrics\\_classification.py:1245: UndefinedMetricWarning: Precision and F-score are ill-defined and being set to 0.0 in labels with no predicted samples. Use `zero_division` parameter to control this behavior.\n",
      "  _warn_prf(average, modifier, msg_start, len(result))\n"
     ]
    },
    {
     "name": "stdout",
     "output_type": "stream",
     "text": [
      "spectral_bandwidth\n",
      "                     precision    recall  f1-score   support\n",
      "\n",
      "          Classical       0.18      0.50      0.26       124\n",
      "            Country       0.02      0.34      0.03        35\n",
      "         Electronic       0.68      0.21      0.33      1263\n",
      "       Experimental       0.26      0.03      0.06       450\n",
      "               Folk       0.18      0.32      0.23       304\n",
      "            Hip-Hop       0.22      0.37      0.28       440\n",
      "       Instrumental       0.22      0.20      0.21       270\n",
      "      International       0.19      0.15      0.16       204\n",
      "               Jazz       0.03      0.09      0.04        77\n",
      "Old-Time / Historic       0.31      0.66      0.42       102\n",
      "                Pop       0.13      0.08      0.10       237\n",
      "               Rock       0.67      0.18      0.29      1421\n",
      "           Soul-RnB       0.02      0.48      0.04        31\n",
      "\n",
      "           accuracy                           0.22      4958\n",
      "          macro avg       0.24      0.28      0.19      4958\n",
      "       weighted avg       0.46      0.22      0.25      4958\n",
      "\n",
      "spectral_centroid\n",
      "                     precision    recall  f1-score   support\n",
      "\n",
      "          Classical       0.19      0.49      0.27       124\n",
      "            Country       0.02      0.34      0.03        35\n",
      "         Electronic       0.62      0.15      0.24      1263\n",
      "       Experimental       0.28      0.02      0.03       450\n",
      "               Folk       0.23      0.45      0.30       304\n",
      "            Hip-Hop       0.24      0.57      0.33       440\n",
      "       Instrumental       0.31      0.25      0.28       270\n",
      "      International       0.12      0.05      0.07       204\n",
      "               Jazz       0.05      0.17      0.07        77\n",
      "Old-Time / Historic       0.39      0.78      0.52       102\n",
      "                Pop       0.10      0.04      0.06       237\n",
      "               Rock       0.71      0.38      0.49      1421\n",
      "           Soul-RnB       0.03      0.26      0.05        31\n",
      "\n",
      "           accuracy                           0.28      4958\n",
      "          macro avg       0.25      0.30      0.21      4958\n",
      "       weighted avg       0.46      0.28      0.29      4958\n",
      "\n",
      "spectral_contrast\n",
      "                     precision    recall  f1-score   support\n",
      "\n",
      "          Classical       0.52      0.77      0.62       124\n",
      "            Country       0.06      0.51      0.10        35\n",
      "         Electronic       0.72      0.42      0.53      1263\n",
      "       Experimental       0.34      0.34      0.34       450\n",
      "               Folk       0.44      0.51      0.48       304\n",
      "            Hip-Hop       0.41      0.51      0.46       440\n",
      "       Instrumental       0.28      0.28      0.28       270\n",
      "      International       0.31      0.42      0.36       204\n",
      "               Jazz       0.11      0.27      0.16        77\n",
      "Old-Time / Historic       0.72      0.93      0.81       102\n",
      "                Pop       0.14      0.15      0.15       237\n",
      "               Rock       0.81      0.57      0.67      1421\n",
      "           Soul-RnB       0.07      0.55      0.12        31\n",
      "\n",
      "           accuracy                           0.47      4958\n",
      "          macro avg       0.38      0.48      0.39      4958\n",
      "       weighted avg       0.58      0.47      0.50      4958\n",
      "\n",
      "spectral_rolloff\n",
      "                     precision    recall  f1-score   support\n",
      "\n",
      "          Classical       0.19      0.47      0.27       124\n",
      "            Country       0.02      0.49      0.04        35\n",
      "         Electronic       0.65      0.13      0.21      1263\n",
      "       Experimental       0.33      0.02      0.03       450\n",
      "               Folk       0.19      0.46      0.27       304\n",
      "            Hip-Hop       0.24      0.51      0.32       440\n",
      "       Instrumental       0.28      0.21      0.24       270\n",
      "      International       0.13      0.02      0.03       204\n",
      "               Jazz       0.02      0.04      0.03        77\n",
      "Old-Time / Historic       0.50      0.78      0.61       102\n",
      "                Pop       0.00      0.00      0.00       237\n",
      "               Rock       0.69      0.33      0.45      1421\n",
      "           Soul-RnB       0.02      0.32      0.03        31\n",
      "\n",
      "           accuracy                           0.25      4958\n",
      "          macro avg       0.25      0.29      0.20      4958\n",
      "       weighted avg       0.46      0.25      0.27      4958\n",
      "\n",
      "tonnetz\n",
      "                     precision    recall  f1-score   support\n",
      "\n",
      "          Classical       0.20      0.47      0.29       124\n",
      "            Country       0.03      0.49      0.06        35\n",
      "         Electronic       0.50      0.14      0.22      1263\n",
      "       Experimental       0.27      0.26      0.27       450\n",
      "               Folk       0.26      0.30      0.28       304\n",
      "            Hip-Hop       0.20      0.37      0.26       440\n",
      "       Instrumental       0.20      0.23      0.22       270\n",
      "      International       0.10      0.19      0.13       204\n",
      "               Jazz       0.09      0.42      0.15        77\n",
      "Old-Time / Historic       0.32      0.76      0.45       102\n",
      "                Pop       0.10      0.05      0.06       237\n",
      "               Rock       0.60      0.16      0.25      1421\n",
      "           Soul-RnB       0.02      0.35      0.05        31\n",
      "\n",
      "           accuracy                           0.22      4958\n",
      "          macro avg       0.22      0.32      0.21      4958\n",
      "       weighted avg       0.39      0.22      0.23      4958\n",
      "\n",
      "zcr\n",
      "                     precision    recall  f1-score   support\n",
      "\n",
      "          Classical       0.14      0.48      0.22       124\n",
      "            Country       0.02      0.43      0.04        35\n",
      "         Electronic       0.52      0.06      0.11      1263\n",
      "       Experimental       0.34      0.04      0.07       450\n",
      "               Folk       0.21      0.37      0.27       304\n",
      "            Hip-Hop       0.22      0.50      0.31       440\n",
      "       Instrumental       0.18      0.18      0.18       270\n",
      "      International       0.15      0.09      0.11       204\n",
      "               Jazz       0.05      0.17      0.07        77\n",
      "Old-Time / Historic       0.25      0.75      0.37       102\n",
      "                Pop       0.10      0.07      0.08       237\n",
      "               Rock       0.67      0.24      0.35      1421\n",
      "           Soul-RnB       0.02      0.32      0.04        31\n",
      "\n",
      "           accuracy                           0.21      4958\n",
      "          macro avg       0.22      0.28      0.17      4958\n",
      "       weighted avg       0.42      0.21      0.21      4958\n",
      "\n"
     ]
    }
   ],
   "source": [
    "feature_sets = features.columns.get_level_values(0).unique()\n",
    "\n",
    "for fs in feature_sets:\n",
    "    X_train_scaled = scaler.fit_transform(X_train[fs])\n",
    "    X_test_scaled = scaler.transform(X_test[fs])\n",
    "    classifier = SVC(kernel='rbf', class_weight='balanced', random_state=RANDOM_STATE)\n",
    "    classifier.fit(X_train_scaled, y_train)\n",
    "    y_pred = classifier.predict(X_test_scaled)\n",
    "    print(fs)\n",
    "    print(classification_report(y_test, y_pred))"
   ]
  }
 ],
 "metadata": {
  "colab": {
   "name": "prediction.ipynb",
   "provenance": []
  },
  "kernelspec": {
   "display_name": "Python 3",
   "language": "python",
   "name": "python3"
  },
  "language_info": {
   "codemirror_mode": {
    "name": "ipython",
    "version": 3
   },
   "file_extension": ".py",
   "mimetype": "text/x-python",
   "name": "python",
   "nbconvert_exporter": "python",
   "pygments_lexer": "ipython3",
   "version": "3.8.8"
  }
 },
 "nbformat": 4,
 "nbformat_minor": 5
}
