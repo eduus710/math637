{
 "cells": [
  {
   "cell_type": "markdown",
   "id": "b6673e9c",
   "metadata": {},
   "source": [
    "### ML genre classification on FMA with a PCA feature selection step\n",
    "\n",
    "* use the 'medium' dataset to work with more training examplars\n",
    "* note medium also only contains tracks where all tagged genres roll up to the same root genre\n",
    "* 1st attempt with PCA - drop less impactful components\n",
    "* 2nd attempt - drop highly correlated features"
   ]
  },
  {
   "cell_type": "code",
   "execution_count": 1,
   "id": "c8d9d66b",
   "metadata": {
    "id": "264ca248"
   },
   "outputs": [],
   "source": [
    "%matplotlib inline\n",
    "\n",
    "import pandas as pd\n",
    "import numpy as np\n",
    "import scipy as sp\n",
    "import IPython.display as ipd\n",
    "\n",
    "import matplotlib.pyplot as plt\n",
    "\n",
    "from sklearn.svm import SVC\n",
    "from sklearn.preprocessing import MinMaxScaler, StandardScaler\n",
    "from sklearn.decomposition import PCA\n",
    "from sklearn.model_selection import (train_test_split, GridSearchCV, RandomizedSearchCV)\n",
    "from sklearn.metrics import (classification_report, confusion_matrix, ConfusionMatrixDisplay, f1_score)\n",
    "from sklearn.linear_model import LogisticRegression\n",
    "from sklearn.neighbors import KNeighborsClassifier\n",
    "\n",
    "from sklearn.experimental import enable_halving_search_cv\n",
    "from sklearn.model_selection import HalvingRandomSearchCV, HalvingGridSearchCV\n",
    "\n",
    "import utils\n",
    "\n",
    "RANDOM_STATE = 53"
   ]
  },
  {
   "cell_type": "code",
   "execution_count": 2,
   "id": "a2ce64ac",
   "metadata": {
    "colab": {
     "base_uri": "https://localhost:8080/"
    },
    "executionInfo": {
     "elapsed": 38455,
     "status": "ok",
     "timestamp": 1619477163309,
     "user": {
      "displayName": "Erik Duus",
      "photoUrl": "https://lh3.googleusercontent.com/-iXEfO6S51W4/AAAAAAAAAAI/AAAAAAAAANU/5o-Kbbrwl74/s64/photo.jpg",
      "userId": "05537512012204035072"
     },
     "user_tz": 240
    },
    "id": "2fee27d7",
    "outputId": "018b4458-c00a-4376-9815-d9dd20b402d5"
   },
   "outputs": [
    {
     "data": {
      "text/plain": [
       "((106574, 518), (106574, 52))"
      ]
     },
     "execution_count": 2,
     "metadata": {},
     "output_type": "execute_result"
    }
   ],
   "source": [
    "(features, tracks) = utils.load_features()\n",
    "features.shape, tracks.shape"
   ]
  },
  {
   "cell_type": "code",
   "execution_count": 3,
   "id": "3cb2a5fa",
   "metadata": {
    "colab": {
     "base_uri": "https://localhost:8080/"
    },
    "executionInfo": {
     "elapsed": 737,
     "status": "ok",
     "timestamp": 1619477191134,
     "user": {
      "displayName": "Erik Duus",
      "photoUrl": "https://lh3.googleusercontent.com/-iXEfO6S51W4/AAAAAAAAAAI/AAAAAAAAANU/5o-Kbbrwl74/s64/photo.jpg",
      "userId": "05537512012204035072"
     },
     "user_tz": 240
    },
    "id": "fbfa297d",
    "outputId": "4be6aa56-3bc6-4e87-d114-b2e7b50e2291"
   },
   "outputs": [
    {
     "name": "stdout",
     "output_type": "stream",
     "text": [
      "(25000, 518) (25000,)\n"
     ]
    }
   ],
   "source": [
    "small = tracks[('set', 'subset')] == 'small'\n",
    "medium = tracks[('set', 'subset')].isin(['small','medium'])\n",
    "X = features[medium]\n",
    "y = tracks[medium][('track','genre_top')]\n",
    "\n",
    "print(X.shape, y.shape)"
   ]
  },
  {
   "cell_type": "markdown",
   "id": "296c2c20",
   "metadata": {},
   "source": [
    "#### arbitrarily eliminate bottom 3 genres due to lack of exemplars\n"
   ]
  },
  {
   "cell_type": "code",
   "execution_count": 4,
   "id": "bac4f8af",
   "metadata": {},
   "outputs": [],
   "source": [
    "prune = ~y.isin(['Spoken','Blues','Easy Listening'])\n",
    "y = y[prune]\n",
    "X = X[prune]"
   ]
  },
  {
   "cell_type": "markdown",
   "id": "ae131170",
   "metadata": {},
   "source": [
    "#### build training/test sets"
   ]
  },
  {
   "cell_type": "code",
   "execution_count": 5,
   "id": "68f263c8",
   "metadata": {},
   "outputs": [],
   "source": [
    "X_train, X_test, y_train, y_test = train_test_split(X, y, \n",
    "                                                    test_size=0.2,\n",
    "                                                    random_state=RANDOM_STATE,\n",
    "                                                    shuffle=True,\n",
    "                                                    stratify=y)\n",
    "scaler = MinMaxScaler()\n",
    "X_train_scaled = scaler.fit_transform(X_train)\n",
    "X_test_scaled = scaler.transform(X_test)"
   ]
  },
  {
   "cell_type": "markdown",
   "id": "7e354922",
   "metadata": {},
   "source": [
    "#### run PCA and save the components which explain 95% variance"
   ]
  },
  {
   "cell_type": "code",
   "execution_count": 6,
   "id": "15a7f3e6",
   "metadata": {},
   "outputs": [
    {
     "name": "stdout",
     "output_type": "stream",
     "text": [
      "95% explained variance level: 145\n"
     ]
    },
    {
     "data": {
      "text/plain": [
       "((19829, 145), (4958, 145))"
      ]
     },
     "execution_count": 6,
     "metadata": {},
     "output_type": "execute_result"
    }
   ],
   "source": [
    "# fit PCA to training set; retain all components\n",
    "pca = PCA(random_state=RANDOM_STATE)\n",
    "pca.fit(X_train_scaled)\n",
    "\n",
    "# locate the component index that gives 95% variance\n",
    "cum_variance = np.cumsum(pca.explained_variance_ratio_)\n",
    "for i in range(len(cum_variance)):\n",
    "    if cum_variance[i] > .95:\n",
    "        break\n",
    "\n",
    "print(f'95% explained variance level: {i}')\n",
    "\n",
    "# now transform the train/test sets\n",
    "pca = PCA(random_state=RANDOM_STATE, n_components = i)\n",
    "X_train_pca = pca.fit_transform(X_train_scaled)\n",
    "X_test_pca = pca.transform(X_test_scaled)\n",
    "\n",
    "X_train_pca.shape, X_test_pca.shape"
   ]
  },
  {
   "cell_type": "markdown",
   "id": "3093b9e1",
   "metadata": {},
   "source": [
    "#### 4 Basic ML classifiers with classifiers with PCA reduced features"
   ]
  },
  {
   "cell_type": "code",
   "execution_count": 7,
   "id": "30ab86ca",
   "metadata": {},
   "outputs": [
    {
     "name": "stderr",
     "output_type": "stream",
     "text": [
      "C:\\Users\\orovi\\anaconda3\\lib\\site-packages\\sklearn\\metrics\\_classification.py:1245: UndefinedMetricWarning: Precision and F-score are ill-defined and being set to 0.0 in labels with no predicted samples. Use `zero_division` parameter to control this behavior.\n",
      "  _warn_prf(average, modifier, msg_start, len(result))\n",
      "C:\\Users\\orovi\\anaconda3\\lib\\site-packages\\sklearn\\metrics\\_classification.py:1245: UndefinedMetricWarning: Precision and F-score are ill-defined and being set to 0.0 in labels with no predicted samples. Use `zero_division` parameter to control this behavior.\n",
      "  _warn_prf(average, modifier, msg_start, len(result))\n",
      "C:\\Users\\orovi\\anaconda3\\lib\\site-packages\\sklearn\\metrics\\_classification.py:1245: UndefinedMetricWarning: Precision and F-score are ill-defined and being set to 0.0 in labels with no predicted samples. Use `zero_division` parameter to control this behavior.\n",
      "  _warn_prf(average, modifier, msg_start, len(result))\n"
     ]
    },
    {
     "name": "stdout",
     "output_type": "stream",
     "text": [
      "                     precision    recall  f1-score   support\n",
      "\n",
      "          Classical       0.73      0.82      0.78       124\n",
      "            Country       1.00      0.06      0.11        35\n",
      "         Electronic       0.64      0.81      0.71      1263\n",
      "       Experimental       0.46      0.34      0.39       450\n",
      "               Folk       0.65      0.61      0.63       304\n",
      "            Hip-Hop       0.70      0.62      0.66       440\n",
      "       Instrumental       0.56      0.43      0.48       270\n",
      "      International       0.58      0.41      0.48       204\n",
      "               Jazz       0.62      0.30      0.40        77\n",
      "Old-Time / Historic       0.98      0.94      0.96       102\n",
      "                Pop       0.35      0.05      0.08       237\n",
      "               Rock       0.73      0.87      0.80      1421\n",
      "           Soul-RnB       0.00      0.00      0.00        31\n",
      "\n",
      "           accuracy                           0.67      4958\n",
      "          macro avg       0.62      0.48      0.50      4958\n",
      "       weighted avg       0.64      0.67      0.64      4958\n",
      "\n"
     ]
    },
    {
     "name": "stderr",
     "output_type": "stream",
     "text": [
      "C:\\Users\\orovi\\anaconda3\\lib\\site-packages\\sklearn\\metrics\\_classification.py:1245: UndefinedMetricWarning: Precision and F-score are ill-defined and being set to 0.0 in labels with no predicted samples. Use `zero_division` parameter to control this behavior.\n",
      "  _warn_prf(average, modifier, msg_start, len(result))\n",
      "C:\\Users\\orovi\\anaconda3\\lib\\site-packages\\sklearn\\metrics\\_classification.py:1245: UndefinedMetricWarning: Precision and F-score are ill-defined and being set to 0.0 in labels with no predicted samples. Use `zero_division` parameter to control this behavior.\n",
      "  _warn_prf(average, modifier, msg_start, len(result))\n",
      "C:\\Users\\orovi\\anaconda3\\lib\\site-packages\\sklearn\\metrics\\_classification.py:1245: UndefinedMetricWarning: Precision and F-score are ill-defined and being set to 0.0 in labels with no predicted samples. Use `zero_division` parameter to control this behavior.\n",
      "  _warn_prf(average, modifier, msg_start, len(result))\n"
     ]
    },
    {
     "name": "stdout",
     "output_type": "stream",
     "text": [
      "                     precision    recall  f1-score   support\n",
      "\n",
      "          Classical       0.79      0.81      0.80       124\n",
      "            Country       1.00      0.03      0.06        35\n",
      "         Electronic       0.66      0.85      0.74      1263\n",
      "       Experimental       0.52      0.46      0.49       450\n",
      "               Folk       0.67      0.65      0.66       304\n",
      "            Hip-Hop       0.74      0.62      0.68       440\n",
      "       Instrumental       0.59      0.41      0.49       270\n",
      "      International       0.71      0.44      0.55       204\n",
      "               Jazz       0.79      0.29      0.42        77\n",
      "Old-Time / Historic       1.00      0.97      0.99       102\n",
      "                Pop       0.43      0.06      0.11       237\n",
      "               Rock       0.75      0.88      0.81      1421\n",
      "           Soul-RnB       0.00      0.00      0.00        31\n",
      "\n",
      "           accuracy                           0.69      4958\n",
      "          macro avg       0.67      0.50      0.52      4958\n",
      "       weighted avg       0.68      0.69      0.67      4958\n",
      "\n"
     ]
    },
    {
     "name": "stderr",
     "output_type": "stream",
     "text": [
      "C:\\Users\\orovi\\anaconda3\\lib\\site-packages\\sklearn\\linear_model\\_logistic.py:763: ConvergenceWarning: lbfgs failed to converge (status=1):\n",
      "STOP: TOTAL NO. of ITERATIONS REACHED LIMIT.\n",
      "\n",
      "Increase the number of iterations (max_iter) or scale the data as shown in:\n",
      "    https://scikit-learn.org/stable/modules/preprocessing.html\n",
      "Please also refer to the documentation for alternative solver options:\n",
      "    https://scikit-learn.org/stable/modules/linear_model.html#logistic-regression\n",
      "  n_iter_i = _check_optimize_result(\n"
     ]
    },
    {
     "name": "stdout",
     "output_type": "stream",
     "text": [
      "                     precision    recall  f1-score   support\n",
      "\n",
      "          Classical       0.76      0.83      0.79       124\n",
      "            Country       0.00      0.00      0.00        35\n",
      "         Electronic       0.64      0.78      0.71      1263\n",
      "       Experimental       0.46      0.32      0.38       450\n",
      "               Folk       0.61      0.61      0.61       304\n",
      "            Hip-Hop       0.67      0.63      0.65       440\n",
      "       Instrumental       0.50      0.40      0.45       270\n",
      "      International       0.50      0.35      0.41       204\n",
      "               Jazz       0.69      0.31      0.43        77\n",
      "Old-Time / Historic       0.95      0.96      0.96       102\n",
      "                Pop       0.33      0.05      0.09       237\n",
      "               Rock       0.72      0.88      0.79      1421\n",
      "           Soul-RnB       0.67      0.06      0.12        31\n",
      "\n",
      "           accuracy                           0.66      4958\n",
      "          macro avg       0.58      0.48      0.49      4958\n",
      "       weighted avg       0.63      0.66      0.63      4958\n",
      "\n",
      "                     precision    recall  f1-score   support\n",
      "\n",
      "          Classical       0.56      0.85      0.68       124\n",
      "            Country       0.15      0.43      0.23        35\n",
      "         Electronic       0.68      0.62      0.65      1263\n",
      "       Experimental       0.47      0.27      0.34       450\n",
      "               Folk       0.47      0.53      0.50       304\n",
      "            Hip-Hop       0.48      0.54      0.51       440\n",
      "       Instrumental       0.58      0.25      0.35       270\n",
      "      International       0.45      0.47      0.46       204\n",
      "               Jazz       0.43      0.34      0.38        77\n",
      "Old-Time / Historic       0.92      0.99      0.95       102\n",
      "                Pop       0.21      0.11      0.14       237\n",
      "               Rock       0.67      0.84      0.75      1421\n",
      "           Soul-RnB       0.67      0.06      0.12        31\n",
      "\n",
      "           accuracy                           0.59      4958\n",
      "          macro avg       0.52      0.49      0.47      4958\n",
      "       weighted avg       0.58      0.59      0.58      4958\n",
      "\n"
     ]
    }
   ],
   "source": [
    "classifiers = {'SVC': SVC(kernel='linear', random_state=RANDOM_STATE),\n",
    "               'SVC-RBF': SVC(kernel='rbf', random_state=RANDOM_STATE),\n",
    "               'LR' : LogisticRegression(random_state=RANDOM_STATE),\n",
    "               'KNN' :KNeighborsClassifier()\n",
    "              }\n",
    "\n",
    "for (name, cl) in classifiers.items():\n",
    "    cl.fit(X_train_pca, y_train)\n",
    "    y_pred = cl.predict(X_test_pca)\n",
    "    print(classification_report(y_test, y_pred))"
   ]
  },
  {
   "cell_type": "code",
   "execution_count": 8,
   "id": "a2ce3ba1",
   "metadata": {},
   "outputs": [
    {
     "name": "stdout",
     "output_type": "stream",
     "text": [
      "                     precision    recall  f1-score   support\n",
      "\n",
      "          Classical       0.65      0.84      0.73       124\n",
      "            Country       0.11      0.57      0.19        35\n",
      "         Electronic       0.75      0.53      0.62      1263\n",
      "       Experimental       0.39      0.40      0.40       450\n",
      "               Folk       0.57      0.63      0.60       304\n",
      "            Hip-Hop       0.56      0.71      0.63       440\n",
      "       Instrumental       0.39      0.56      0.46       270\n",
      "      International       0.40      0.49      0.44       204\n",
      "               Jazz       0.28      0.61      0.39        77\n",
      "Old-Time / Historic       0.94      0.93      0.94       102\n",
      "                Pop       0.20      0.27      0.23       237\n",
      "               Rock       0.89      0.64      0.75      1421\n",
      "           Soul-RnB       0.13      0.52      0.21        31\n",
      "\n",
      "           accuracy                           0.58      4958\n",
      "          macro avg       0.48      0.59      0.51      4958\n",
      "       weighted avg       0.66      0.58      0.60      4958\n",
      "\n",
      "                     precision    recall  f1-score   support\n",
      "\n",
      "          Classical       0.76      0.87      0.81       124\n",
      "            Country       0.35      0.63      0.45        35\n",
      "         Electronic       0.78      0.63      0.69      1263\n",
      "       Experimental       0.44      0.54      0.49       450\n",
      "               Folk       0.59      0.71      0.64       304\n",
      "            Hip-Hop       0.59      0.73      0.65       440\n",
      "       Instrumental       0.44      0.58      0.50       270\n",
      "      International       0.55      0.56      0.55       204\n",
      "               Jazz       0.53      0.53      0.53        77\n",
      "Old-Time / Historic       0.98      0.99      0.99       102\n",
      "                Pop       0.23      0.32      0.27       237\n",
      "               Rock       0.89      0.72      0.80      1421\n",
      "           Soul-RnB       0.48      0.35      0.41        31\n",
      "\n",
      "           accuracy                           0.65      4958\n",
      "          macro avg       0.58      0.63      0.60      4958\n",
      "       weighted avg       0.69      0.65      0.66      4958\n",
      "\n",
      "                     precision    recall  f1-score   support\n",
      "\n",
      "          Classical       0.68      0.85      0.75       124\n",
      "            Country       0.10      0.66      0.17        35\n",
      "         Electronic       0.78      0.45      0.57      1263\n",
      "       Experimental       0.41      0.35      0.38       450\n",
      "               Folk       0.60      0.61      0.60       304\n",
      "            Hip-Hop       0.53      0.69      0.60       440\n",
      "       Instrumental       0.35      0.49      0.41       270\n",
      "      International       0.35      0.49      0.41       204\n",
      "               Jazz       0.21      0.57      0.31        77\n",
      "Old-Time / Historic       0.86      0.97      0.91       102\n",
      "                Pop       0.20      0.25      0.22       237\n",
      "               Rock       0.88      0.64      0.74      1421\n",
      "           Soul-RnB       0.07      0.61      0.13        31\n",
      "\n",
      "           accuracy                           0.55      4958\n",
      "          macro avg       0.46      0.59      0.48      4958\n",
      "       weighted avg       0.65      0.55      0.58      4958\n",
      "\n"
     ]
    }
   ],
   "source": [
    "classifiers = {'SVC': SVC(kernel='linear', class_weight='balanced', random_state=RANDOM_STATE),\n",
    "               'SVC-RBF': SVC(kernel='rbf', class_weight='balanced',random_state=RANDOM_STATE),\n",
    "               'LR' : LogisticRegression(class_weight='balanced', max_iter=5000, random_state=RANDOM_STATE),\n",
    "              }\n",
    "\n",
    "for (name, cl) in classifiers.items():\n",
    "    cl.fit(X_train_pca, y_train)\n",
    "    y_pred = cl.predict(X_test_pca)\n",
    "    print(classification_report(y_test, y_pred))"
   ]
  },
  {
   "cell_type": "code",
   "execution_count": 9,
   "id": "feb4965a",
   "metadata": {},
   "outputs": [
    {
     "name": "stdout",
     "output_type": "stream",
     "text": [
      "                     precision    recall  f1-score   support\n",
      "\n",
      "          Classical       0.65      0.84      0.73       124\n",
      "            Country       0.11      0.57      0.19        35\n",
      "         Electronic       0.75      0.53      0.62      1263\n",
      "       Experimental       0.39      0.40      0.40       450\n",
      "               Folk       0.57      0.63      0.60       304\n",
      "            Hip-Hop       0.56      0.71      0.63       440\n",
      "       Instrumental       0.39      0.56      0.46       270\n",
      "      International       0.40      0.49      0.44       204\n",
      "               Jazz       0.28      0.61      0.39        77\n",
      "Old-Time / Historic       0.94      0.93      0.94       102\n",
      "                Pop       0.20      0.27      0.23       237\n",
      "               Rock       0.89      0.64      0.75      1421\n",
      "           Soul-RnB       0.13      0.52      0.21        31\n",
      "\n",
      "           accuracy                           0.58      4958\n",
      "          macro avg       0.48      0.59      0.51      4958\n",
      "       weighted avg       0.66      0.58      0.60      4958\n",
      "\n",
      "                     precision    recall  f1-score   support\n",
      "\n",
      "          Classical       0.76      0.87      0.81       124\n",
      "            Country       0.35      0.63      0.45        35\n",
      "         Electronic       0.78      0.63      0.69      1263\n",
      "       Experimental       0.44      0.54      0.49       450\n",
      "               Folk       0.59      0.71      0.64       304\n",
      "            Hip-Hop       0.59      0.73      0.65       440\n",
      "       Instrumental       0.44      0.58      0.50       270\n",
      "      International       0.55      0.56      0.55       204\n",
      "               Jazz       0.53      0.53      0.53        77\n",
      "Old-Time / Historic       0.98      0.99      0.99       102\n",
      "                Pop       0.23      0.32      0.27       237\n",
      "               Rock       0.89      0.72      0.80      1421\n",
      "           Soul-RnB       0.48      0.35      0.41        31\n",
      "\n",
      "           accuracy                           0.65      4958\n",
      "          macro avg       0.58      0.63      0.60      4958\n",
      "       weighted avg       0.69      0.65      0.66      4958\n",
      "\n",
      "                     precision    recall  f1-score   support\n",
      "\n",
      "          Classical       0.68      0.85      0.75       124\n",
      "            Country       0.10      0.66      0.17        35\n",
      "         Electronic       0.78      0.45      0.57      1263\n",
      "       Experimental       0.41      0.35      0.38       450\n",
      "               Folk       0.60      0.61      0.60       304\n",
      "            Hip-Hop       0.53      0.69      0.60       440\n",
      "       Instrumental       0.35      0.49      0.41       270\n",
      "      International       0.35      0.49      0.41       204\n",
      "               Jazz       0.21      0.57      0.31        77\n",
      "Old-Time / Historic       0.86      0.97      0.91       102\n",
      "                Pop       0.20      0.25      0.22       237\n",
      "               Rock       0.88      0.64      0.74      1421\n",
      "           Soul-RnB       0.07      0.61      0.13        31\n",
      "\n",
      "           accuracy                           0.55      4958\n",
      "          macro avg       0.46      0.59      0.48      4958\n",
      "       weighted avg       0.65      0.55      0.58      4958\n",
      "\n"
     ]
    }
   ],
   "source": [
    "classifiers = {'SVC': SVC(kernel='linear', class_weight='balanced', random_state=RANDOM_STATE),\n",
    "               'SVC-RBF': SVC(kernel='rbf', class_weight='balanced', random_state=RANDOM_STATE),\n",
    "               'LR' : LogisticRegression(class_weight='balanced', max_iter=5000, random_state=RANDOM_STATE),\n",
    "              }\n",
    "\n",
    "for (name, cl) in classifiers.items():\n",
    "    cl.fit(X_train_pca, y_train)\n",
    "    y_pred = cl.predict(X_test_pca)\n",
    "    print(classification_report(y_test, y_pred))"
   ]
  },
  {
   "cell_type": "code",
   "execution_count": 10,
   "id": "35dfb4e5",
   "metadata": {},
   "outputs": [
    {
     "name": "stdout",
     "output_type": "stream",
     "text": [
      "SVC(C=2.8372189729803776, class_weight='balanced', gamma=0.2718658988575616)\n",
      "                     precision    recall  f1-score   support\n",
      "\n",
      "          Classical       0.79      0.85      0.82       124\n",
      "            Country       0.56      0.54      0.55        35\n",
      "         Electronic       0.75      0.71      0.73      1263\n",
      "       Experimental       0.48      0.57      0.52       450\n",
      "               Folk       0.62      0.71      0.66       304\n",
      "            Hip-Hop       0.60      0.72      0.65       440\n",
      "       Instrumental       0.49      0.54      0.51       270\n",
      "      International       0.58      0.58      0.58       204\n",
      "               Jazz       0.66      0.45      0.54        77\n",
      "Old-Time / Historic       1.00      0.98      0.99       102\n",
      "                Pop       0.26      0.27      0.26       237\n",
      "               Rock       0.86      0.77      0.81      1421\n",
      "           Soul-RnB       0.69      0.29      0.41        31\n",
      "\n",
      "           accuracy                           0.68      4958\n",
      "          macro avg       0.64      0.61      0.62      4958\n",
      "       weighted avg       0.69      0.68      0.68      4958\n",
      "\n"
     ]
    }
   ],
   "source": [
    "param_dist = {'C': sp.stats.loguniform(1e-1, 1e1), \n",
    "              'gamma': sp.stats.loguniform(1e-4, 1e0)\n",
    "}\n",
    "\n",
    "rsh = HalvingRandomSearchCV(SVC(kernel='rbf',\n",
    "                            class_weight='balanced'), \n",
    "                            param_dist, \n",
    "                            scoring='f1_macro', \n",
    "                            random_state=RANDOM_STATE,\n",
    "                            n_jobs=4 )\n",
    "rsh.fit(X_train_pca, y_train)\n",
    "cl = rsh.best_estimator_\n",
    "print(cl)\n",
    "\n",
    "y_pred = cl.predict(X_test_pca)\n",
    "print(classification_report(y_test, y_pred))"
   ]
  },
  {
   "cell_type": "code",
   "execution_count": 11,
   "id": "3186cd65",
   "metadata": {},
   "outputs": [
    {
     "name": "stdout",
     "output_type": "stream",
     "text": [
      "LogisticRegression(C=2.5693969947404893, class_weight='balanced', max_iter=5000)\n",
      "                     precision    recall  f1-score   support\n",
      "\n",
      "          Classical       0.68      0.84      0.75       124\n",
      "            Country       0.10      0.66      0.18        35\n",
      "         Electronic       0.78      0.45      0.57      1263\n",
      "       Experimental       0.40      0.34      0.37       450\n",
      "               Folk       0.58      0.60      0.59       304\n",
      "            Hip-Hop       0.54      0.70      0.61       440\n",
      "       Instrumental       0.36      0.48      0.41       270\n",
      "      International       0.34      0.50      0.41       204\n",
      "               Jazz       0.21      0.57      0.31        77\n",
      "Old-Time / Historic       0.88      0.97      0.93       102\n",
      "                Pop       0.19      0.24      0.21       237\n",
      "               Rock       0.88      0.64      0.74      1421\n",
      "           Soul-RnB       0.07      0.61      0.13        31\n",
      "\n",
      "           accuracy                           0.54      4958\n",
      "          macro avg       0.46      0.59      0.48      4958\n",
      "       weighted avg       0.65      0.54      0.57      4958\n",
      "\n"
     ]
    }
   ],
   "source": [
    "param_dist = {'max_iter': [5000],\n",
    "              'C': sp.stats.loguniform(1e-1, 1e1) \n",
    "}\n",
    "\n",
    "X_train_scaled = scaler.fit_transform(X_train)\n",
    "X_test_scaled = scaler.transform(X_test)\n",
    "\n",
    "rsh = HalvingRandomSearchCV(LogisticRegression(class_weight='balanced'),\n",
    "                            param_dist, \n",
    "                            scoring='f1_macro', \n",
    "                            random_state=RANDOM_STATE,\n",
    "                            n_jobs=4)\n",
    "\n",
    "rsh.fit(X_train_pca, y_train)\n",
    "cl = rsh.best_estimator_\n",
    "print(cl)\n",
    "\n",
    "y_pred = cl.predict(X_test_pca)\n",
    "print(classification_report(y_test, y_pred))\n"
   ]
  },
  {
   "cell_type": "markdown",
   "id": "d53d3735",
   "metadata": {},
   "source": [
    "### PCA with 100 components"
   ]
  },
  {
   "cell_type": "code",
   "execution_count": 12,
   "id": "efcfdf4e",
   "metadata": {},
   "outputs": [
    {
     "data": {
      "text/plain": [
       "((19829, 100), (4958, 100))"
      ]
     },
     "execution_count": 12,
     "metadata": {},
     "output_type": "execute_result"
    }
   ],
   "source": [
    "# now transform the train/test sets\n",
    "pca = PCA(random_state=RANDOM_STATE, n_components = 100)\n",
    "X_train_pca = pca.fit_transform(X_train_scaled)\n",
    "X_test_pca = pca.transform(X_test_scaled)\n",
    "\n",
    "X_train_pca.shape, X_test_pca.shape"
   ]
  },
  {
   "cell_type": "code",
   "execution_count": 13,
   "id": "910f8f92",
   "metadata": {},
   "outputs": [
    {
     "name": "stdout",
     "output_type": "stream",
     "text": [
      "                     precision    recall  f1-score   support\n",
      "\n",
      "          Classical       0.63      0.86      0.73       124\n",
      "            Country       0.12      0.69      0.20        35\n",
      "         Electronic       0.74      0.51      0.60      1263\n",
      "       Experimental       0.41      0.41      0.41       450\n",
      "               Folk       0.58      0.62      0.60       304\n",
      "            Hip-Hop       0.54      0.67      0.60       440\n",
      "       Instrumental       0.37      0.55      0.44       270\n",
      "      International       0.35      0.49      0.40       204\n",
      "               Jazz       0.26      0.52      0.35        77\n",
      "Old-Time / Historic       0.92      0.95      0.94       102\n",
      "                Pop       0.21      0.27      0.24       237\n",
      "               Rock       0.90      0.63      0.74      1421\n",
      "           Soul-RnB       0.10      0.55      0.18        31\n",
      "\n",
      "           accuracy                           0.56      4958\n",
      "          macro avg       0.47      0.59      0.49      4958\n",
      "       weighted avg       0.65      0.56      0.59      4958\n",
      "\n",
      "                     precision    recall  f1-score   support\n",
      "\n",
      "          Classical       0.73      0.90      0.80       124\n",
      "            Country       0.33      0.63      0.43        35\n",
      "         Electronic       0.77      0.62      0.68      1263\n",
      "       Experimental       0.45      0.54      0.49       450\n",
      "               Folk       0.58      0.69      0.63       304\n",
      "            Hip-Hop       0.57      0.72      0.64       440\n",
      "       Instrumental       0.43      0.57      0.49       270\n",
      "      International       0.53      0.56      0.54       204\n",
      "               Jazz       0.53      0.56      0.54        77\n",
      "Old-Time / Historic       0.99      0.99      0.99       102\n",
      "                Pop       0.21      0.30      0.25       237\n",
      "               Rock       0.89      0.71      0.79      1421\n",
      "           Soul-RnB       0.43      0.39      0.41        31\n",
      "\n",
      "           accuracy                           0.64      4958\n",
      "          macro avg       0.57      0.63      0.59      4958\n",
      "       weighted avg       0.68      0.64      0.66      4958\n",
      "\n",
      "                     precision    recall  f1-score   support\n",
      "\n",
      "          Classical       0.65      0.82      0.72       124\n",
      "            Country       0.10      0.69      0.17        35\n",
      "         Electronic       0.77      0.44      0.56      1263\n",
      "       Experimental       0.40      0.33      0.36       450\n",
      "               Folk       0.57      0.60      0.59       304\n",
      "            Hip-Hop       0.52      0.67      0.58       440\n",
      "       Instrumental       0.33      0.47      0.39       270\n",
      "      International       0.32      0.44      0.37       204\n",
      "               Jazz       0.22      0.58      0.32        77\n",
      "Old-Time / Historic       0.88      0.97      0.92       102\n",
      "                Pop       0.19      0.23      0.21       237\n",
      "               Rock       0.87      0.64      0.74      1421\n",
      "           Soul-RnB       0.07      0.61      0.13        31\n",
      "\n",
      "           accuracy                           0.53      4958\n",
      "          macro avg       0.45      0.58      0.47      4958\n",
      "       weighted avg       0.64      0.53      0.56      4958\n",
      "\n",
      "                     precision    recall  f1-score   support\n",
      "\n",
      "          Classical       0.55      0.85      0.67       124\n",
      "            Country       0.15      0.37      0.21        35\n",
      "         Electronic       0.67      0.64      0.65      1263\n",
      "       Experimental       0.48      0.29      0.36       450\n",
      "               Folk       0.48      0.55      0.51       304\n",
      "            Hip-Hop       0.49      0.52      0.50       440\n",
      "       Instrumental       0.57      0.23      0.33       270\n",
      "      International       0.47      0.45      0.46       204\n",
      "               Jazz       0.46      0.34      0.39        77\n",
      "Old-Time / Historic       0.93      0.99      0.96       102\n",
      "                Pop       0.29      0.14      0.18       237\n",
      "               Rock       0.66      0.84      0.74      1421\n",
      "           Soul-RnB       0.40      0.06      0.11        31\n",
      "\n",
      "           accuracy                           0.60      4958\n",
      "          macro avg       0.51      0.48      0.47      4958\n",
      "       weighted avg       0.58      0.60      0.58      4958\n",
      "\n"
     ]
    }
   ],
   "source": [
    "classifiers = {'SVC': SVC(kernel='linear', class_weight='balanced', random_state=RANDOM_STATE),\n",
    "               'SVC-RBF': SVC(kernel='rbf', class_weight='balanced', random_state=RANDOM_STATE),\n",
    "               'LR' : LogisticRegression(class_weight='balanced', max_iter=5000, random_state=RANDOM_STATE),\n",
    "               'KNN' :KNeighborsClassifier()\n",
    "              }\n",
    "\n",
    "for (name, cl) in classifiers.items():\n",
    "    cl.fit(X_train_pca, y_train)\n",
    "    y_pred = cl.predict(X_test_pca)\n",
    "    print(classification_report(y_test, y_pred))"
   ]
  },
  {
   "cell_type": "code",
   "execution_count": 14,
   "id": "1a2f1030",
   "metadata": {},
   "outputs": [
    {
     "name": "stdout",
     "output_type": "stream",
     "text": [
      "SVC(C=2.8372189729803776, class_weight='balanced', gamma=0.2718658988575616)\n",
      "                     precision    recall  f1-score   support\n",
      "\n",
      "          Classical       0.80      0.85      0.82       124\n",
      "            Country       0.50      0.57      0.53        35\n",
      "         Electronic       0.74      0.69      0.72      1263\n",
      "       Experimental       0.49      0.57      0.53       450\n",
      "               Folk       0.60      0.69      0.64       304\n",
      "            Hip-Hop       0.58      0.70      0.63       440\n",
      "       Instrumental       0.49      0.56      0.52       270\n",
      "      International       0.55      0.58      0.57       204\n",
      "               Jazz       0.62      0.47      0.53        77\n",
      "Old-Time / Historic       0.99      0.99      0.99       102\n",
      "                Pop       0.25      0.27      0.26       237\n",
      "               Rock       0.87      0.76      0.81      1421\n",
      "           Soul-RnB       0.71      0.32      0.44        31\n",
      "\n",
      "           accuracy                           0.67      4958\n",
      "          macro avg       0.63      0.62      0.62      4958\n",
      "       weighted avg       0.69      0.67      0.68      4958\n",
      "\n"
     ]
    }
   ],
   "source": [
    "param_dist = {'C': sp.stats.loguniform(1e-1, 1e1), \n",
    "              'gamma': sp.stats.loguniform(1e-4, 1e0)\n",
    "}\n",
    "\n",
    "rsh = HalvingRandomSearchCV(SVC(kernel='rbf',\n",
    "                            class_weight='balanced'), \n",
    "                            param_dist, \n",
    "                            scoring='f1_macro', \n",
    "                            random_state=RANDOM_STATE,\n",
    "                            n_jobs=4 )\n",
    "rsh.fit(X_train_pca, y_train)\n",
    "cl = rsh.best_estimator_\n",
    "print(cl)\n",
    "\n",
    "y_pred = cl.predict(X_test_pca)\n",
    "print(classification_report(y_test, y_pred))"
   ]
  },
  {
   "cell_type": "code",
   "execution_count": 15,
   "id": "ea4f6d3b",
   "metadata": {},
   "outputs": [
    {
     "name": "stdout",
     "output_type": "stream",
     "text": [
      "LogisticRegression(C=2.5693969947404893, class_weight='balanced', max_iter=5000)\n",
      "                     precision    recall  f1-score   support\n",
      "\n",
      "          Classical       0.64      0.81      0.71       124\n",
      "            Country       0.09      0.69      0.17        35\n",
      "         Electronic       0.77      0.43      0.55      1263\n",
      "       Experimental       0.40      0.33      0.36       450\n",
      "               Folk       0.57      0.60      0.58       304\n",
      "            Hip-Hop       0.52      0.67      0.58       440\n",
      "       Instrumental       0.33      0.47      0.39       270\n",
      "      International       0.32      0.44      0.37       204\n",
      "               Jazz       0.22      0.58      0.32        77\n",
      "Old-Time / Historic       0.88      0.97      0.92       102\n",
      "                Pop       0.18      0.23      0.20       237\n",
      "               Rock       0.88      0.64      0.74      1421\n",
      "           Soul-RnB       0.07      0.58      0.12        31\n",
      "\n",
      "           accuracy                           0.53      4958\n",
      "          macro avg       0.45      0.57      0.46      4958\n",
      "       weighted avg       0.64      0.53      0.56      4958\n",
      "\n"
     ]
    }
   ],
   "source": [
    "param_dist = {'max_iter': [5000],\n",
    "              'C': sp.stats.loguniform(1e-1, 1e1) \n",
    "}\n",
    "\n",
    "X_train_scaled = scaler.fit_transform(X_train)\n",
    "X_test_scaled = scaler.transform(X_test)\n",
    "\n",
    "rsh = HalvingRandomSearchCV(LogisticRegression(class_weight='balanced'),\n",
    "                            param_dist, \n",
    "                            scoring='f1_macro', \n",
    "                            random_state=RANDOM_STATE,\n",
    "                            n_jobs=4)\n",
    "\n",
    "rsh.fit(X_train_pca, y_train)\n",
    "cl = rsh.best_estimator_\n",
    "print(cl)\n",
    "\n",
    "y_pred = cl.predict(X_test_pca)\n",
    "print(classification_report(y_test, y_pred))"
   ]
  },
  {
   "cell_type": "code",
   "execution_count": null,
   "id": "966f7cfb",
   "metadata": {},
   "outputs": [],
   "source": []
  }
 ],
 "metadata": {
  "colab": {
   "name": "prediction.ipynb",
   "provenance": []
  },
  "kernelspec": {
   "display_name": "Python 3",
   "language": "python",
   "name": "python3"
  },
  "language_info": {
   "codemirror_mode": {
    "name": "ipython",
    "version": 3
   },
   "file_extension": ".py",
   "mimetype": "text/x-python",
   "name": "python",
   "nbconvert_exporter": "python",
   "pygments_lexer": "ipython3",
   "version": "3.8.8"
  }
 },
 "nbformat": 4,
 "nbformat_minor": 5
}
